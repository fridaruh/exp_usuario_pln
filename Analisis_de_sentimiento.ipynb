{
  "nbformat": 4,
  "nbformat_minor": 0,
  "metadata": {
    "colab": {
      "name": "Analisis_de_sentimiento.ipynb",
      "provenance": [],
      "include_colab_link": true
    },
    "kernelspec": {
      "name": "python3",
      "display_name": "Python 3"
    },
    "language_info": {
      "name": "python"
    }
  },
  "cells": [
    {
      "cell_type": "markdown",
      "metadata": {
        "id": "view-in-github",
        "colab_type": "text"
      },
      "source": [
        "<a href=\"https://colab.research.google.com/github/fridaruh/exp_usuario_pln/blob/master/Analisis_de_sentimiento.ipynb\" target=\"_parent\"><img src=\"https://colab.research.google.com/assets/colab-badge.svg\" alt=\"Open In Colab\"/></a>"
      ]
    },
    {
      "cell_type": "code",
      "metadata": {
        "id": "YKYtruVaAID5"
      },
      "source": [
        "#consumer_key = ''\n",
        "#consumer_secret = ''\n",
        "#access_token = ''\n",
        "#access_token_secret = ''"
      ],
      "execution_count": null,
      "outputs": []
    },
    {
      "cell_type": "code",
      "metadata": {
        "id": "HyHQRoToAnLg"
      },
      "source": [
        "import tweepy\n",
        "import pandas as pd\n",
        "import seaborn as sns"
      ],
      "execution_count": null,
      "outputs": []
    },
    {
      "cell_type": "code",
      "metadata": {
        "id": "JfKEIbGiAtz_"
      },
      "source": [
        "auth = tweepy.OAuthHandler(consumer_key, consumer_secret)\n",
        "auth.set_access_token(access_token, access_token_secret)"
      ],
      "execution_count": null,
      "outputs": []
    },
    {
      "cell_type": "code",
      "metadata": {
        "id": "lOzpLCEUAzzU"
      },
      "source": [
        "api = tweepy.API(auth)"
      ],
      "execution_count": null,
      "outputs": []
    },
    {
      "cell_type": "code",
      "metadata": {
        "colab": {
          "base_uri": "https://localhost:8080/"
        },
        "id": "ukXnbm1AA4NT",
        "outputId": "7d5e00b5-6a17-4729-9de5-1bb0e639603c"
      },
      "source": [
        "!pip install vaderSentiment"
      ],
      "execution_count": null,
      "outputs": [
        {
          "output_type": "stream",
          "text": [
            "Collecting vaderSentiment\n",
            "\u001b[?25l  Downloading https://files.pythonhosted.org/packages/76/fc/310e16254683c1ed35eeb97386986d6c00bc29df17ce280aed64d55537e9/vaderSentiment-3.3.2-py2.py3-none-any.whl (125kB)\n",
            "\u001b[K     |████████████████████████████████| 133kB 3.0MB/s \n",
            "\u001b[?25hRequirement already satisfied: requests in /usr/local/lib/python3.7/dist-packages (from vaderSentiment) (2.23.0)\n",
            "Requirement already satisfied: chardet<4,>=3.0.2 in /usr/local/lib/python3.7/dist-packages (from requests->vaderSentiment) (3.0.4)\n",
            "Requirement already satisfied: certifi>=2017.4.17 in /usr/local/lib/python3.7/dist-packages (from requests->vaderSentiment) (2020.12.5)\n",
            "Requirement already satisfied: idna<3,>=2.5 in /usr/local/lib/python3.7/dist-packages (from requests->vaderSentiment) (2.10)\n",
            "Requirement already satisfied: urllib3!=1.25.0,!=1.25.1,<1.26,>=1.21.1 in /usr/local/lib/python3.7/dist-packages (from requests->vaderSentiment) (1.24.3)\n",
            "Installing collected packages: vaderSentiment\n",
            "Successfully installed vaderSentiment-3.3.2\n"
          ],
          "name": "stdout"
        }
      ]
    },
    {
      "cell_type": "code",
      "metadata": {
        "id": "FLQYnqwaBJMT"
      },
      "source": [
        "from vaderSentiment.vaderSentiment import SentimentIntensityAnalyzer"
      ],
      "execution_count": null,
      "outputs": []
    },
    {
      "cell_type": "code",
      "metadata": {
        "id": "fm9SlGVDBSVU"
      },
      "source": [
        "analyser = SentimentIntensityAnalyzer()"
      ],
      "execution_count": null,
      "outputs": []
    },
    {
      "cell_type": "code",
      "metadata": {
        "id": "wujT4ihaBfnE"
      },
      "source": [
        "tweet_user = []\n",
        "tweet_time = []\n",
        "tweet_string = []\n",
        "\n",
        "for tweet in tweepy.Cursor(api.search, q='whatsapp', count=1000).items(1000):\n",
        "  if (not tweet.retweeted) and ('RT @' not in tweet.text):\n",
        "    if tweet.lang == 'en':\n",
        "      tweet_user.append(tweet.user.name)\n",
        "      tweet_time.append(tweet.created_at)\n",
        "      tweet_string.append(tweet.text)\n",
        "\n",
        "df = pd.DataFrame({'name': tweet_user, 'time':tweet_time, 'tweet':tweet_string})"
      ],
      "execution_count": null,
      "outputs": []
    },
    {
      "cell_type": "code",
      "metadata": {
        "id": "NOagK6yjF7fy"
      },
      "source": [
        "#tweet_user"
      ],
      "execution_count": null,
      "outputs": []
    },
    {
      "cell_type": "code",
      "metadata": {
        "id": "24_jtrDPC3S8"
      },
      "source": [
        "df.to_csv('whatsapp.csv')"
      ],
      "execution_count": null,
      "outputs": []
    },
    {
      "cell_type": "code",
      "metadata": {
        "colab": {
          "base_uri": "https://localhost:8080/"
        },
        "id": "teJtNw4TDYPP",
        "outputId": "f03e3412-feb0-4a07-9c19-04c58c9de31f"
      },
      "source": [
        "df.shape"
      ],
      "execution_count": null,
      "outputs": [
        {
          "output_type": "execute_result",
          "data": {
            "text/plain": [
              "(81, 3)"
            ]
          },
          "metadata": {
            "tags": []
          },
          "execution_count": 18
        }
      ]
    },
    {
      "cell_type": "code",
      "metadata": {
        "id": "Kg60jiIbDhmj"
      },
      "source": [
        "df = pd.read_csv('/content/whatsapp.csv')"
      ],
      "execution_count": null,
      "outputs": []
    },
    {
      "cell_type": "code",
      "metadata": {
        "colab": {
          "base_uri": "https://localhost:8080/"
        },
        "id": "FcckTl9mDsZM",
        "outputId": "718fcbe2-15f5-4c4a-894d-f1eef4e967eb"
      },
      "source": [
        "analyser.polarity_scores(\"I feel so tired\")"
      ],
      "execution_count": null,
      "outputs": [
        {
          "output_type": "execute_result",
          "data": {
            "text/plain": [
              "{'compound': -0.5777, 'neg': 0.555, 'neu': 0.445, 'pos': 0.0}"
            ]
          },
          "metadata": {
            "tags": []
          },
          "execution_count": 27
        }
      ]
    },
    {
      "cell_type": "code",
      "metadata": {
        "id": "TjB0ipndGYA3"
      },
      "source": [
        "def sentiment_analyzer_scores(tweet):\n",
        "  score = analyser.polarity_scores(tweet)\n",
        "  comp = score['compound']\n",
        "  if comp >= 0.05:\n",
        "    return 1\n",
        "  elif (comp > -0.05) and (comp<0.05):\n",
        "    return 0\n",
        "  else:\n",
        "    return -1"
      ],
      "execution_count": null,
      "outputs": []
    },
    {
      "cell_type": "code",
      "metadata": {
        "colab": {
          "base_uri": "https://localhost:8080/",
          "height": 142
        },
        "id": "TEMIe-k5Kgta",
        "outputId": "dc877acd-dab5-44a8-8ed7-9f2d46e017e2"
      },
      "source": [
        "df.head(3)"
      ],
      "execution_count": null,
      "outputs": [
        {
          "output_type": "execute_result",
          "data": {
            "text/html": [
              "<div>\n",
              "<style scoped>\n",
              "    .dataframe tbody tr th:only-of-type {\n",
              "        vertical-align: middle;\n",
              "    }\n",
              "\n",
              "    .dataframe tbody tr th {\n",
              "        vertical-align: top;\n",
              "    }\n",
              "\n",
              "    .dataframe thead th {\n",
              "        text-align: right;\n",
              "    }\n",
              "</style>\n",
              "<table border=\"1\" class=\"dataframe\">\n",
              "  <thead>\n",
              "    <tr style=\"text-align: right;\">\n",
              "      <th></th>\n",
              "      <th>name</th>\n",
              "      <th>time</th>\n",
              "      <th>tweet</th>\n",
              "    </tr>\n",
              "  </thead>\n",
              "  <tbody>\n",
              "    <tr>\n",
              "      <th>0</th>\n",
              "      <td>Naresh Nokhwal</td>\n",
              "      <td>2021-05-26 00:22:11</td>\n",
              "      <td>@MOHITSI23046736 O whatsApp bhi band hosi😜</td>\n",
              "    </tr>\n",
              "    <tr>\n",
              "      <th>1</th>\n",
              "      <td>⭒</td>\n",
              "      <td>2021-05-26 00:22:11</td>\n",
              "      <td>yres\\n\\nprior babu monumental marinette tays r...</td>\n",
              "    </tr>\n",
              "    <tr>\n",
              "      <th>2</th>\n",
              "      <td>𝐌𝐞...🦉 PRONOME? ELE/ELA</td>\n",
              "      <td>2021-05-26 00:22:05</td>\n",
              "      <td>@felipeneto prior babu monumental marinette ta...</td>\n",
              "    </tr>\n",
              "  </tbody>\n",
              "</table>\n",
              "</div>"
            ],
            "text/plain": [
              "                      name  ...                                              tweet\n",
              "0           Naresh Nokhwal  ...         @MOHITSI23046736 O whatsApp bhi band hosi😜\n",
              "1                        ⭒  ...  yres\\n\\nprior babu monumental marinette tays r...\n",
              "2  𝐌𝐞...🦉 PRONOME? ELE/ELA  ...  @felipeneto prior babu monumental marinette ta...\n",
              "\n",
              "[3 rows x 3 columns]"
            ]
          },
          "metadata": {
            "tags": []
          },
          "execution_count": 29
        }
      ]
    },
    {
      "cell_type": "code",
      "metadata": {
        "id": "jH5Rk_xwKpoU"
      },
      "source": [
        "df['sentiment'] = df['tweet'].apply(lambda x: sentiment_analyzer_scores(x))"
      ],
      "execution_count": null,
      "outputs": []
    },
    {
      "cell_type": "code",
      "metadata": {
        "colab": {
          "base_uri": "https://localhost:8080/",
          "height": 204
        },
        "id": "T9O-e7-eK4sg",
        "outputId": "24f5b498-32b4-41f6-db8b-304a6e968840"
      },
      "source": [
        "df.sample(5)"
      ],
      "execution_count": null,
      "outputs": [
        {
          "output_type": "execute_result",
          "data": {
            "text/html": [
              "<div>\n",
              "<style scoped>\n",
              "    .dataframe tbody tr th:only-of-type {\n",
              "        vertical-align: middle;\n",
              "    }\n",
              "\n",
              "    .dataframe tbody tr th {\n",
              "        vertical-align: top;\n",
              "    }\n",
              "\n",
              "    .dataframe thead th {\n",
              "        text-align: right;\n",
              "    }\n",
              "</style>\n",
              "<table border=\"1\" class=\"dataframe\">\n",
              "  <thead>\n",
              "    <tr style=\"text-align: right;\">\n",
              "      <th></th>\n",
              "      <th>name</th>\n",
              "      <th>time</th>\n",
              "      <th>tweet</th>\n",
              "      <th>sentiment</th>\n",
              "    </tr>\n",
              "  </thead>\n",
              "  <tbody>\n",
              "    <tr>\n",
              "      <th>15</th>\n",
              "      <td>soda ⚣︎ • 🔰</td>\n",
              "      <td>2021-05-26 00:21:22</td>\n",
              "      <td>@K4ID0VR 9 \\nprior babu monumental marinette t...</td>\n",
              "      <td>-1</td>\n",
              "    </tr>\n",
              "    <tr>\n",
              "      <th>44</th>\n",
              "      <td>mabel</td>\n",
              "      <td>2021-05-26 00:20:16</td>\n",
              "      <td>@iPetAsuka nao \\n\\nprior babu monumental marin...</td>\n",
              "      <td>-1</td>\n",
              "    </tr>\n",
              "    <tr>\n",
              "      <th>21</th>\n",
              "      <td>PRITESH BUNKER</td>\n",
              "      <td>2021-05-26 00:21:10</td>\n",
              "      <td>@WhatsApp  my whatsapp number has been bannend...</td>\n",
              "      <td>1</td>\n",
              "    </tr>\n",
              "    <tr>\n",
              "      <th>16</th>\n",
              "      <td>Vishal Tiwari (अभय)</td>\n",
              "      <td>2021-05-26 00:21:21</td>\n",
              "      <td>Facebook, Instagram &amp;amp; WhatsApp have compli...</td>\n",
              "      <td>0</td>\n",
              "    </tr>\n",
              "    <tr>\n",
              "      <th>75</th>\n",
              "      <td>Achievinghelpers</td>\n",
              "      <td>2021-05-26 00:19:14</td>\n",
              "      <td>We offer reliable services ever\\nAnatomy\\nChem...</td>\n",
              "      <td>1</td>\n",
              "    </tr>\n",
              "  </tbody>\n",
              "</table>\n",
              "</div>"
            ],
            "text/plain": [
              "                   name  ... sentiment\n",
              "15          soda ⚣︎ • 🔰  ...        -1\n",
              "44                mabel  ...        -1\n",
              "21       PRITESH BUNKER  ...         1\n",
              "16  Vishal Tiwari (अभय)  ...         0\n",
              "75     Achievinghelpers  ...         1\n",
              "\n",
              "[5 rows x 4 columns]"
            ]
          },
          "metadata": {
            "tags": []
          },
          "execution_count": 33
        }
      ]
    },
    {
      "cell_type": "code",
      "metadata": {
        "colab": {
          "base_uri": "https://localhost:8080/",
          "height": 386
        },
        "id": "uTEFvorfK51i",
        "outputId": "d0730222-3692-4d4c-d5eb-fa8edbefd576"
      },
      "source": [
        "sns.displot(df, x='sentiment')"
      ],
      "execution_count": null,
      "outputs": [
        {
          "output_type": "execute_result",
          "data": {
            "text/plain": [
              "<seaborn.axisgrid.FacetGrid at 0x7fd394533310>"
            ]
          },
          "metadata": {
            "tags": []
          },
          "execution_count": 37
        },
        {
          "output_type": "display_data",
          "data": {
            "image/png": "[encoded data removed]",
            "text/plain": [
              "<Figure size 360x360 with 1 Axes>"
            ]
          },
          "metadata": {
            "tags": [],
            "needs_background": "light"
          }
        }
      ]
    },
    {
      "cell_type": "code",
      "metadata": {
        "id": "jAiHOQ2ELuWU"
      },
      "source": [
        ""
      ],
      "execution_count": null,
      "outputs": []
    }
  ]
}