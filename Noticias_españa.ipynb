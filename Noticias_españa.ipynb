{
  "nbformat": 4,
  "nbformat_minor": 0,
  "metadata": {
    "colab": {
      "name": "Noticias_español.ipynb",
      "provenance": [],
      "mount_file_id": "1ml_sXsT89yJwJGzN7VeqbTrcWJxtfqRQ",
      "authorship_tag": "ABX9TyMu3HUJ8zh5FiDMNE0NQ2h8",
      "include_colab_link": true
    },
    "kernelspec": {
      "name": "python3",
      "display_name": "Python 3"
    },
    "language_info": {
      "name": "python"
    }
  },
  "cells": [
    {
      "cell_type": "markdown",
      "metadata": {
        "id": "view-in-github",
        "colab_type": "text"
      },
      "source": [
        "<a href=\"https://colab.research.google.com/github/fridaruh/exp_usuario_pln/blob/master/Noticias_espa%C3%B1a.ipynb\" target=\"_parent\"><img src=\"https://colab.research.google.com/assets/colab-badge.svg\" alt=\"Open In Colab\"/></a>"
      ]
    },
    {
      "cell_type": "markdown",
      "metadata": {
        "id": "Ch6U9SrS9Cs7"
      },
      "source": [
        "# Importar librerías"
      ]
    },
    {
      "cell_type": "markdown",
      "metadata": {
        "id": "C7Buq99t1cjL"
      },
      "source": [
        "Importando librerías"
      ]
    },
    {
      "cell_type": "code",
      "metadata": {
        "id": "yuZqNzgatlnu"
      },
      "source": [
        "import pandas as pd #Dataframes, leer csv, excel, xlsx, etc.\n",
        "import numpy as np #Manejo de matrices"
      ],
      "execution_count": 1,
      "outputs": []
    },
    {
      "cell_type": "markdown",
      "metadata": {
        "id": "z2QtHWbr9Fpw"
      },
      "source": [
        "# Carga de datos"
      ]
    },
    {
      "cell_type": "markdown",
      "metadata": {
        "id": "oxUd4NON2Eq7"
      },
      "source": [
        "Leer el archivo csv"
      ]
    },
    {
      "cell_type": "code",
      "metadata": {
        "id": "qEjoNoqD2Dkg"
      },
      "source": [
        "base = pd.read_csv('/content/fakes1000.csv')\n",
        "#df = pd.read_csv('/content/drive/MyDrive/Cursos/DBFT/fakes1000.csv')"
      ],
      "execution_count": 2,
      "outputs": []
    },
    {
      "cell_type": "code",
      "metadata": {
        "colab": {
          "base_uri": "https://localhost:8080/"
        },
        "id": "YrsIvBwr2gUk",
        "outputId": "cee2f22d-6c3e-4aeb-9e1a-83a823a78fb6"
      },
      "source": [
        "base.shape"
      ],
      "execution_count": 3,
      "outputs": [
        {
          "output_type": "execute_result",
          "data": {
            "text/plain": [
              "(2000, 2)"
            ]
          },
          "metadata": {},
          "execution_count": 3
        }
      ]
    },
    {
      "cell_type": "code",
      "metadata": {
        "colab": {
          "base_uri": "https://localhost:8080/",
          "height": 363
        },
        "id": "9SL0uq1-2j29",
        "outputId": "ca1132dd-cb31-414d-a00d-503b4a77eb48"
      },
      "source": [
        "base.head(10) #Leer las primeras 5 filas"
      ],
      "execution_count": 5,
      "outputs": [
        {
          "output_type": "execute_result",
          "data": {
            "text/html": [
              "<div>\n",
              "<style scoped>\n",
              "    .dataframe tbody tr th:only-of-type {\n",
              "        vertical-align: middle;\n",
              "    }\n",
              "\n",
              "    .dataframe tbody tr th {\n",
              "        vertical-align: top;\n",
              "    }\n",
              "\n",
              "    .dataframe thead th {\n",
              "        text-align: right;\n",
              "    }\n",
              "</style>\n",
              "<table border=\"1\" class=\"dataframe\">\n",
              "  <thead>\n",
              "    <tr style=\"text-align: right;\">\n",
              "      <th></th>\n",
              "      <th>class</th>\n",
              "      <th>Text</th>\n",
              "    </tr>\n",
              "  </thead>\n",
              "  <tbody>\n",
              "    <tr>\n",
              "      <th>0</th>\n",
              "      <td>True</td>\n",
              "      <td>Algunas de las voces extremistas más conocida...</td>\n",
              "    </tr>\n",
              "    <tr>\n",
              "      <th>1</th>\n",
              "      <td>True</td>\n",
              "      <td>Después de casi dos años y medio de luchas po...</td>\n",
              "    </tr>\n",
              "    <tr>\n",
              "      <th>2</th>\n",
              "      <td>True</td>\n",
              "      <td>Dos periodistas birmanos de la agencia Reuter...</td>\n",
              "    </tr>\n",
              "    <tr>\n",
              "      <th>3</th>\n",
              "      <td>True</td>\n",
              "      <td>El Cuerpo Nacional de Policía ha detenido a c...</td>\n",
              "    </tr>\n",
              "    <tr>\n",
              "      <th>4</th>\n",
              "      <td>True</td>\n",
              "      <td>El desfile de la firma en Roma se convierte e...</td>\n",
              "    </tr>\n",
              "    <tr>\n",
              "      <th>5</th>\n",
              "      <td>True</td>\n",
              "      <td>El miedo a la pérdida de identidad y la avers...</td>\n",
              "    </tr>\n",
              "    <tr>\n",
              "      <th>6</th>\n",
              "      <td>True</td>\n",
              "      <td>El Ministerio de Exteriores de Rusia ha convo...</td>\n",
              "    </tr>\n",
              "    <tr>\n",
              "      <th>7</th>\n",
              "      <td>True</td>\n",
              "      <td>El nuevo plan migratorio del presidente parec...</td>\n",
              "    </tr>\n",
              "    <tr>\n",
              "      <th>8</th>\n",
              "      <td>True</td>\n",
              "      <td>El secretario general de Podemos , Lander Mar...</td>\n",
              "    </tr>\n",
              "    <tr>\n",
              "      <th>9</th>\n",
              "      <td>False</td>\n",
              "      <td>El suceso ha tenido lugar en Brasil. Un adole...</td>\n",
              "    </tr>\n",
              "  </tbody>\n",
              "</table>\n",
              "</div>"
            ],
            "text/plain": [
              "   class                                               Text\n",
              "0   True   Algunas de las voces extremistas más conocida...\n",
              "1   True   Después de casi dos años y medio de luchas po...\n",
              "2   True   Dos periodistas birmanos de la agencia Reuter...\n",
              "3   True   El Cuerpo Nacional de Policía ha detenido a c...\n",
              "4   True   El desfile de la firma en Roma se convierte e...\n",
              "5   True   El miedo a la pérdida de identidad y la avers...\n",
              "6   True   El Ministerio de Exteriores de Rusia ha convo...\n",
              "7   True   El nuevo plan migratorio del presidente parec...\n",
              "8   True   El secretario general de Podemos , Lander Mar...\n",
              "9  False   El suceso ha tenido lugar en Brasil. Un adole..."
            ]
          },
          "metadata": {},
          "execution_count": 5
        }
      ]
    },
    {
      "cell_type": "code",
      "metadata": {
        "colab": {
          "base_uri": "https://localhost:8080/",
          "height": 363
        },
        "id": "4rP6mw7F2pvN",
        "outputId": "ed6194ee-927f-4f77-acfe-bf99689d2d59"
      },
      "source": [
        "base.tail(10) #Leer las últimas 10 filas"
      ],
      "execution_count": 6,
      "outputs": [
        {
          "output_type": "execute_result",
          "data": {
            "text/html": [
              "<div>\n",
              "<style scoped>\n",
              "    .dataframe tbody tr th:only-of-type {\n",
              "        vertical-align: middle;\n",
              "    }\n",
              "\n",
              "    .dataframe tbody tr th {\n",
              "        vertical-align: top;\n",
              "    }\n",
              "\n",
              "    .dataframe thead th {\n",
              "        text-align: right;\n",
              "    }\n",
              "</style>\n",
              "<table border=\"1\" class=\"dataframe\">\n",
              "  <thead>\n",
              "    <tr style=\"text-align: right;\">\n",
              "      <th></th>\n",
              "      <th>class</th>\n",
              "      <th>Text</th>\n",
              "    </tr>\n",
              "  </thead>\n",
              "  <tbody>\n",
              "    <tr>\n",
              "      <th>1990</th>\n",
              "      <td>True</td>\n",
              "      <td>La Unión Extremadura ha denunciado este jueve...</td>\n",
              "    </tr>\n",
              "    <tr>\n",
              "      <th>1991</th>\n",
              "      <td>True</td>\n",
              "      <td>La Unidad contra el acoso escolar de la Comun...</td>\n",
              "    </tr>\n",
              "    <tr>\n",
              "      <th>1992</th>\n",
              "      <td>True</td>\n",
              "      <td>Telecom Castilla-La Mancha inicia un canal en...</td>\n",
              "    </tr>\n",
              "    <tr>\n",
              "      <th>1993</th>\n",
              "      <td>True</td>\n",
              "      <td>La Central Sindical Independiente y de Funcio...</td>\n",
              "    </tr>\n",
              "    <tr>\n",
              "      <th>1994</th>\n",
              "      <td>True</td>\n",
              "      <td>El secretario de Organización del PSOE de Mál...</td>\n",
              "    </tr>\n",
              "    <tr>\n",
              "      <th>1995</th>\n",
              "      <td>True</td>\n",
              "      <td>El Consejo de Gobierno ha dado su visto bueno...</td>\n",
              "    </tr>\n",
              "    <tr>\n",
              "      <th>1996</th>\n",
              "      <td>True</td>\n",
              "      <td>Investigadores valencianos han desarrollado u...</td>\n",
              "    </tr>\n",
              "    <tr>\n",
              "      <th>1997</th>\n",
              "      <td>True</td>\n",
              "      <td>Los arrestados actuaban en coches y en establ...</td>\n",
              "    </tr>\n",
              "    <tr>\n",
              "      <th>1998</th>\n",
              "      <td>True</td>\n",
              "      <td>El Rey ha encargado este miércoles a Pedro Sá...</td>\n",
              "    </tr>\n",
              "    <tr>\n",
              "      <th>1999</th>\n",
              "      <td>True</td>\n",
              "      <td>Las pruebas realizadas en el Centro Nacional ...</td>\n",
              "    </tr>\n",
              "  </tbody>\n",
              "</table>\n",
              "</div>"
            ],
            "text/plain": [
              "      class                                               Text\n",
              "1990   True   La Unión Extremadura ha denunciado este jueve...\n",
              "1991   True   La Unidad contra el acoso escolar de la Comun...\n",
              "1992   True   Telecom Castilla-La Mancha inicia un canal en...\n",
              "1993   True   La Central Sindical Independiente y de Funcio...\n",
              "1994   True   El secretario de Organización del PSOE de Mál...\n",
              "1995   True   El Consejo de Gobierno ha dado su visto bueno...\n",
              "1996   True   Investigadores valencianos han desarrollado u...\n",
              "1997   True   Los arrestados actuaban en coches y en establ...\n",
              "1998   True   El Rey ha encargado este miércoles a Pedro Sá...\n",
              "1999   True   Las pruebas realizadas en el Centro Nacional ..."
            ]
          },
          "metadata": {},
          "execution_count": 6
        }
      ]
    },
    {
      "cell_type": "code",
      "metadata": {
        "colab": {
          "base_uri": "https://localhost:8080/",
          "height": 206
        },
        "id": "AWHFp_AA27cF",
        "outputId": "42cd88ed-6cad-46d4-97fb-5c9632b0f82b"
      },
      "source": [
        "base.sample(5) #Obtener una muestra aleatoria de 5 filas"
      ],
      "execution_count": 7,
      "outputs": [
        {
          "output_type": "execute_result",
          "data": {
            "text/html": [
              "<div>\n",
              "<style scoped>\n",
              "    .dataframe tbody tr th:only-of-type {\n",
              "        vertical-align: middle;\n",
              "    }\n",
              "\n",
              "    .dataframe tbody tr th {\n",
              "        vertical-align: top;\n",
              "    }\n",
              "\n",
              "    .dataframe thead th {\n",
              "        text-align: right;\n",
              "    }\n",
              "</style>\n",
              "<table border=\"1\" class=\"dataframe\">\n",
              "  <thead>\n",
              "    <tr style=\"text-align: right;\">\n",
              "      <th></th>\n",
              "      <th>class</th>\n",
              "      <th>Text</th>\n",
              "    </tr>\n",
              "  </thead>\n",
              "  <tbody>\n",
              "    <tr>\n",
              "      <th>1021</th>\n",
              "      <td>False</td>\n",
              "      <td>Joji, de 50 años, fue encontrado en su casa de...</td>\n",
              "    </tr>\n",
              "    <tr>\n",
              "      <th>1208</th>\n",
              "      <td>False</td>\n",
              "      <td>La prestigiosa Universidad de Oxford ha tomado...</td>\n",
              "    </tr>\n",
              "    <tr>\n",
              "      <th>997</th>\n",
              "      <td>False</td>\n",
              "      <td>Hoy se ha firmado en Moncloa la vuelta de la '...</td>\n",
              "    </tr>\n",
              "    <tr>\n",
              "      <th>567</th>\n",
              "      <td>False</td>\n",
              "      <td>El británico que mató a 22 personas en un aten...</td>\n",
              "    </tr>\n",
              "    <tr>\n",
              "      <th>991</th>\n",
              "      <td>False</td>\n",
              "      <td>Holaaaa Comentarte que han quitado de la decla...</td>\n",
              "    </tr>\n",
              "  </tbody>\n",
              "</table>\n",
              "</div>"
            ],
            "text/plain": [
              "      class                                               Text\n",
              "1021  False  Joji, de 50 años, fue encontrado en su casa de...\n",
              "1208  False  La prestigiosa Universidad de Oxford ha tomado...\n",
              "997   False  Hoy se ha firmado en Moncloa la vuelta de la '...\n",
              "567   False  El británico que mató a 22 personas en un aten...\n",
              "991   False  Holaaaa Comentarte que han quitado de la decla..."
            ]
          },
          "metadata": {},
          "execution_count": 7
        }
      ]
    },
    {
      "cell_type": "code",
      "metadata": {
        "colab": {
          "base_uri": "https://localhost:8080/",
          "height": 54
        },
        "id": "kacgiZrv3CjU",
        "outputId": "8f2c6cb2-a1c2-475d-b25f-58cb2edf1868"
      },
      "source": [
        "base.iloc[0]['Text']"
      ],
      "execution_count": 9,
      "outputs": [
        {
          "output_type": "execute_result",
          "data": {
            "application/vnd.google.colaboratory.intrinsic+json": {
              "type": "string"
            },
            "text/plain": [
              "' Algunas de las voces extremistas más conocidas de EE.UU., cuentas asociadas con al movimiento de la conocida como alt-right o ligadas a grupos antisemitas o xenófobos , han sido eliminadas de un plumazo de la redes sociales Facebook e Instagram. Se trat'"
            ]
          },
          "metadata": {},
          "execution_count": 9
        }
      ]
    },
    {
      "cell_type": "code",
      "metadata": {
        "colab": {
          "base_uri": "https://localhost:8080/",
          "height": 206
        },
        "id": "OEB16Ih03K7c",
        "outputId": "79fb582f-5fdc-452a-d507-41a5139ef7c2"
      },
      "source": [
        "base.head()"
      ],
      "execution_count": 10,
      "outputs": [
        {
          "output_type": "execute_result",
          "data": {
            "text/html": [
              "<div>\n",
              "<style scoped>\n",
              "    .dataframe tbody tr th:only-of-type {\n",
              "        vertical-align: middle;\n",
              "    }\n",
              "\n",
              "    .dataframe tbody tr th {\n",
              "        vertical-align: top;\n",
              "    }\n",
              "\n",
              "    .dataframe thead th {\n",
              "        text-align: right;\n",
              "    }\n",
              "</style>\n",
              "<table border=\"1\" class=\"dataframe\">\n",
              "  <thead>\n",
              "    <tr style=\"text-align: right;\">\n",
              "      <th></th>\n",
              "      <th>class</th>\n",
              "      <th>Text</th>\n",
              "    </tr>\n",
              "  </thead>\n",
              "  <tbody>\n",
              "    <tr>\n",
              "      <th>0</th>\n",
              "      <td>True</td>\n",
              "      <td>Algunas de las voces extremistas más conocida...</td>\n",
              "    </tr>\n",
              "    <tr>\n",
              "      <th>1</th>\n",
              "      <td>True</td>\n",
              "      <td>Después de casi dos años y medio de luchas po...</td>\n",
              "    </tr>\n",
              "    <tr>\n",
              "      <th>2</th>\n",
              "      <td>True</td>\n",
              "      <td>Dos periodistas birmanos de la agencia Reuter...</td>\n",
              "    </tr>\n",
              "    <tr>\n",
              "      <th>3</th>\n",
              "      <td>True</td>\n",
              "      <td>El Cuerpo Nacional de Policía ha detenido a c...</td>\n",
              "    </tr>\n",
              "    <tr>\n",
              "      <th>4</th>\n",
              "      <td>True</td>\n",
              "      <td>El desfile de la firma en Roma se convierte e...</td>\n",
              "    </tr>\n",
              "  </tbody>\n",
              "</table>\n",
              "</div>"
            ],
            "text/plain": [
              "   class                                               Text\n",
              "0   True   Algunas de las voces extremistas más conocida...\n",
              "1   True   Después de casi dos años y medio de luchas po...\n",
              "2   True   Dos periodistas birmanos de la agencia Reuter...\n",
              "3   True   El Cuerpo Nacional de Policía ha detenido a c...\n",
              "4   True   El desfile de la firma en Roma se convierte e..."
            ]
          },
          "metadata": {},
          "execution_count": 10
        }
      ]
    },
    {
      "cell_type": "code",
      "metadata": {
        "id": "A5Bjesb73gcV"
      },
      "source": [
        "data = base['Text'].tolist()"
      ],
      "execution_count": 11,
      "outputs": []
    },
    {
      "cell_type": "code",
      "metadata": {
        "id": "_50sK9nz3qi8"
      },
      "source": [
        "#data"
      ],
      "execution_count": 13,
      "outputs": []
    },
    {
      "cell_type": "code",
      "metadata": {
        "id": "Jfaw7XSV3rgk"
      },
      "source": [
        "pattern = r'''(?x)                  # Flag para iniciar el modo verbose\n",
        "              (?:[A-Z]\\.)+          # Hace match con abreviaciones como U.S.A., U.K.\n",
        "              | \\w+(?:-\\w+)*        # Hace match con palabras que pueden tener un guión interno (10-20),  e-mail\n",
        "              | \\$?\\d+(?:\\.\\d+)?%?  # Hace match con dinero o porcentajes como $15.5 --> 15, 5 o 100% --> 100\n",
        "              | \\.\\.\\.              # Hace match con puntos suspensivos\n",
        "              | [][.,;\"'?():-_`]    # Hace match con signos de puntuación \n",
        "'''"
      ],
      "execution_count": 14,
      "outputs": []
    },
    {
      "cell_type": "code",
      "metadata": {
        "colab": {
          "base_uri": "https://localhost:8080/"
        },
        "id": "yrAcA1Co4-cA",
        "outputId": "595f7058-cb58-44c1-eca2-316f74a2f02a"
      },
      "source": [
        "import nltk\n",
        "nltk.download('punkt')\n",
        "from nltk import word_tokenize"
      ],
      "execution_count": 16,
      "outputs": [
        {
          "output_type": "stream",
          "name": "stdout",
          "text": [
            "[nltk_data] Downloading package punkt to /root/nltk_data...\n",
            "[nltk_data]   Package punkt is already up-to-date!\n"
          ]
        }
      ]
    },
    {
      "cell_type": "code",
      "metadata": {
        "id": "jogMiI2o55rE"
      },
      "source": [
        "texto = []\n",
        "\n",
        "for x in range(0, len(data)):\n",
        "  token_1 = data[x].lower() #convierte a minúsculas\n",
        "  token_2 = nltk.regexp_tokenize(token_1, pattern) #Quita los patrones definidos arriba y genera tokens\n",
        "  texto.append(token_2)"
      ],
      "execution_count": 17,
      "outputs": []
    },
    {
      "cell_type": "code",
      "metadata": {
        "id": "LXvltSpX6r1O"
      },
      "source": [
        "#texto #[[noticia1],[noticia2],[noticia3]] --> noticia1 = ['el','cultivo','de','aguacate'...], ['el','cultivo','de','aguacate'...]"
      ],
      "execution_count": 19,
      "outputs": []
    },
    {
      "cell_type": "markdown",
      "metadata": {
        "id": "Dcp2IWHM7NFi"
      },
      "source": [
        "Convierto la lista de listas de noticias en una sola lista --> ['el', 'cultivo', 'de', 'aguacate', 'el', 'cultivo', 'de', 'aguacate']\n"
      ]
    },
    {
      "cell_type": "code",
      "metadata": {
        "id": "Pk2kbWHt6sh0"
      },
      "source": [
        "flatten = [w for l in texto for w in l ]"
      ],
      "execution_count": 23,
      "outputs": []
    },
    {
      "cell_type": "code",
      "metadata": {
        "id": "u1zMytsZ7rGl"
      },
      "source": [
        "#flatten"
      ],
      "execution_count": 27,
      "outputs": []
    },
    {
      "cell_type": "markdown",
      "metadata": {
        "id": "qjavhKwc8N8O"
      },
      "source": [
        "# Limpieza"
      ]
    },
    {
      "cell_type": "code",
      "metadata": {
        "id": "9TilYjfJ8JU0"
      },
      "source": [
        "import string"
      ],
      "execution_count": 28,
      "outputs": []
    },
    {
      "cell_type": "code",
      "metadata": {
        "id": "VVEwxzer8pGb"
      },
      "source": [
        "puntuacion = list(string.punctuation) #convierto signos de puntuación a una lista"
      ],
      "execution_count": 32,
      "outputs": []
    },
    {
      "cell_type": "code",
      "metadata": {
        "colab": {
          "base_uri": "https://localhost:8080/"
        },
        "id": "Y_TRSfZJ8qty",
        "outputId": "d07e92d0-9031-43e4-c4c2-3328abfffa52"
      },
      "source": [
        "puntuacion"
      ],
      "execution_count": 44,
      "outputs": [
        {
          "output_type": "execute_result",
          "data": {
            "text/plain": [
              "['!',\n",
              " '\"',\n",
              " '#',\n",
              " '$',\n",
              " '%',\n",
              " '&',\n",
              " \"'\",\n",
              " '(',\n",
              " ')',\n",
              " '*',\n",
              " '+',\n",
              " ',',\n",
              " '-',\n",
              " '.',\n",
              " '/',\n",
              " ':',\n",
              " ';',\n",
              " '<',\n",
              " '=',\n",
              " '>',\n",
              " '?',\n",
              " '@',\n",
              " '[',\n",
              " '\\\\',\n",
              " ']',\n",
              " '^',\n",
              " '_',\n",
              " '`',\n",
              " '{',\n",
              " '|',\n",
              " '}',\n",
              " '~',\n",
              " '...']"
            ]
          },
          "metadata": {},
          "execution_count": 44
        }
      ]
    },
    {
      "cell_type": "code",
      "metadata": {
        "id": "nqUC_t9u_LXf"
      },
      "source": [
        "puntuacion.append('...')"
      ],
      "execution_count": 43,
      "outputs": []
    },
    {
      "cell_type": "markdown",
      "metadata": {
        "id": "GbFQadx989Kn"
      },
      "source": [
        "## Stop Words"
      ]
    },
    {
      "cell_type": "code",
      "metadata": {
        "colab": {
          "base_uri": "https://localhost:8080/"
        },
        "id": "La4Rgajb8yx7",
        "outputId": "77a08ce1-3ed4-478d-ca49-9a48c48c9bf8"
      },
      "source": [
        "nltk.download('stopwords')"
      ],
      "execution_count": 33,
      "outputs": [
        {
          "output_type": "stream",
          "name": "stdout",
          "text": [
            "[nltk_data] Downloading package stopwords to /root/nltk_data...\n",
            "[nltk_data]   Unzipping corpora/stopwords.zip.\n"
          ]
        },
        {
          "output_type": "execute_result",
          "data": {
            "text/plain": [
              "True"
            ]
          },
          "metadata": {},
          "execution_count": 33
        }
      ]
    },
    {
      "cell_type": "code",
      "metadata": {
        "id": "JCDUetH89h9k"
      },
      "source": [
        "newStopWords = nltk.corpus.stopwords.words('spanish')"
      ],
      "execution_count": 36,
      "outputs": []
    },
    {
      "cell_type": "markdown",
      "metadata": {
        "id": "Z0qFqeWP-Kz6"
      },
      "source": [
        "Quitamos las stopwords (artículos, preposiciones, adjetivos de lugar, etc.) pasándolos por un ciclo for"
      ]
    },
    {
      "cell_type": "code",
      "metadata": {
        "id": "f3N5-yZP9Pk5"
      },
      "source": [
        "df = [w for w in flatten if w not in newStopWords ]"
      ],
      "execution_count": 37,
      "outputs": []
    },
    {
      "cell_type": "code",
      "metadata": {
        "id": "z7ZrQbfM-mgQ"
      },
      "source": [
        "#df"
      ],
      "execution_count": 39,
      "outputs": []
    },
    {
      "cell_type": "markdown",
      "metadata": {
        "id": "6iElItP3-wSL"
      },
      "source": [
        "Quitamos los signos de puntuación, también pasándolos por un ciclo for"
      ]
    },
    {
      "cell_type": "code",
      "metadata": {
        "id": "h3lWFtuU-nHa"
      },
      "source": [
        "df_2 = [w for w in df if w not in puntuacion]"
      ],
      "execution_count": 40,
      "outputs": []
    },
    {
      "cell_type": "code",
      "metadata": {
        "id": "PddKQIrj_BeD"
      },
      "source": [
        "#df_2"
      ],
      "execution_count": 42,
      "outputs": []
    },
    {
      "cell_type": "markdown",
      "metadata": {
        "id": "aor_Ew7T_i7F"
      },
      "source": [
        "# Estadísticas del corpus"
      ]
    },
    {
      "cell_type": "code",
      "metadata": {
        "id": "eLRpTJke_Cqq"
      },
      "source": [
        "freqwords = nltk.FreqDist(df_2)"
      ],
      "execution_count": 45,
      "outputs": []
    },
    {
      "cell_type": "code",
      "metadata": {
        "colab": {
          "base_uri": "https://localhost:8080/"
        },
        "id": "nz0XbIIx_1NT",
        "outputId": "f1798c20-7b3e-4a08-db57-691c2ff139b9"
      },
      "source": [
        "freqwords.most_common(15)"
      ],
      "execution_count": 48,
      "outputs": [
        {
          "output_type": "execute_result",
          "data": {
            "text/plain": [
              "[('años', 207),\n",
              " ('según', 193),\n",
              " ('gobierno', 171),\n",
              " ('españa', 167),\n",
              " ('si', 146),\n",
              " ('tras', 142),\n",
              " ('año', 112),\n",
              " ('ser', 110),\n",
              " ('madrid', 105),\n",
              " ('sido', 102),\n",
              " ('pasado', 99),\n",
              " ('personas', 96),\n",
              " ('dos', 91),\n",
              " ('presidente', 89),\n",
              " ('euros', 89)]"
            ]
          },
          "metadata": {},
          "execution_count": 48
        }
      ]
    },
    {
      "cell_type": "code",
      "metadata": {
        "id": "7DPU6pYW_2Xb"
      },
      "source": [
        "word_com = freqwords.most_common(50)"
      ],
      "execution_count": 49,
      "outputs": []
    },
    {
      "cell_type": "code",
      "metadata": {
        "id": "bbo66ChbA4yb"
      },
      "source": [
        "from wordcloud import WordCloud\n",
        "import matplotlib.pyplot as plt"
      ],
      "execution_count": 50,
      "outputs": []
    },
    {
      "cell_type": "code",
      "metadata": {
        "colab": {
          "base_uri": "https://localhost:8080/",
          "height": 197
        },
        "id": "FTm8ZyYJBIQk",
        "outputId": "fe64a98c-9d50-4636-8496-c79d0835eba1"
      },
      "source": [
        "wordcloud = WordCloud(background_color= 'white', collocations=False, max_words=50).fit_words(freqwords)\n",
        "plt.imshow(wordcloud, interpolation='bilinear')\n",
        "plt.axis('off')\n",
        "plt.show()"
      ],
      "execution_count": 57,
      "outputs": [
        {
          "output_type": "display_data",
          "data": {
            "image/png": "[encoded data removed]",
            "text/plain": [
              "<Figure size 432x288 with 1 Axes>"
            ]
          },
          "metadata": {
            "needs_background": "light"
          }
        }
      ]
    },
    {
      "cell_type": "code",
      "metadata": {
        "id": "7U7CtgO8B1TE"
      },
      "source": [
        ""
      ],
      "execution_count": null,
      "outputs": []
    }
  ]
}