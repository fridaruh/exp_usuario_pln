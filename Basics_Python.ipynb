{
  "nbformat": 4,
  "nbformat_minor": 0,
  "metadata": {
    "colab": {
      "name": "Basics Python",
      "provenance": [],
      "authorship_tag": "ABX9TyOQav+IobvQuBmqi+ndQK/j",
      "include_colab_link": true
    },
    "kernelspec": {
      "name": "python3",
      "display_name": "Python 3"
    },
    "language_info": {
      "name": "python"
    }
  },
  "cells": [
    {
      "cell_type": "markdown",
      "metadata": {
        "id": "view-in-github",
        "colab_type": "text"
      },
      "source": [
        "<a href=\"https://colab.research.google.com/github/fridaruh/exp_usuario_pln/blob/master/Basics_Python.ipynb\" target=\"_parent\"><img src=\"https://colab.research.google.com/assets/colab-badge.svg\" alt=\"Open In Colab\"/></a>"
      ]
    },
    {
      "cell_type": "markdown",
      "metadata": {
        "id": "kYwPTsb3vRIX"
      },
      "source": [
        "# Condicionales"
      ]
    },
    {
      "cell_type": "markdown",
      "metadata": {
        "id": "c5oz7oJLvULJ"
      },
      "source": [
        "**Condicional if**"
      ]
    },
    {
      "cell_type": "code",
      "metadata": {
        "id": "exXDTAc_vTM_"
      },
      "source": [
        "#Definir una variable con un nombre"
      ],
      "execution_count": null,
      "outputs": []
    },
    {
      "cell_type": "code",
      "metadata": {
        "id": "2yNILQhmvXTf"
      },
      "source": [
        "nombre = 'Frida'"
      ],
      "execution_count": null,
      "outputs": []
    },
    {
      "cell_type": "code",
      "metadata": {
        "colab": {
          "base_uri": "https://localhost:8080/"
        },
        "id": "qJy4lh09vZen",
        "outputId": "c3e8e598-3193-45bf-9baa-dbe2e498e920"
      },
      "source": [
        "print('Introduce un nombre')\n",
        "nombre = input()"
      ],
      "execution_count": null,
      "outputs": [
        {
          "name": "stdout",
          "output_type": "stream",
          "text": [
            "Introduce un nombre\n",
            "Daniel\n"
          ]
        }
      ]
    },
    {
      "cell_type": "code",
      "metadata": {
        "colab": {
          "base_uri": "https://localhost:8080/",
          "height": 36
        },
        "id": "WkVQ6u9VvibP",
        "outputId": "3659fb5b-27a9-4e4f-86d0-e9e2fa5e99ad"
      },
      "source": [
        "nombre"
      ],
      "execution_count": null,
      "outputs": [
        {
          "output_type": "execute_result",
          "data": {
            "application/vnd.google.colaboratory.intrinsic+json": {
              "type": "string"
            },
            "text/plain": [
              "'José Manuel'"
            ]
          },
          "metadata": {},
          "execution_count": 39
        }
      ]
    },
    {
      "cell_type": "code",
      "metadata": {
        "colab": {
          "base_uri": "https://localhost:8080/"
        },
        "id": "FXrQbam8vo8v",
        "outputId": "c7313d93-f846-4ac0-c2f9-a80713164bfa"
      },
      "source": [
        "if nombre == 'Frida':\n",
        "  print('Hola nuevamente '+ nombre)\n",
        "  print('¿Cómo has estado?')\n",
        "  print('¿Cuántos años tienes?')\n",
        "  edad = input()\n"
      ],
      "execution_count": null,
      "outputs": [
        {
          "name": "stdout",
          "output_type": "stream",
          "text": [
            "Hola nuevamente Frida\n",
            "¿Cómo has estado?\n",
            "¿Cuántos años tienes?\n",
            "46549848\n"
          ]
        }
      ]
    },
    {
      "cell_type": "code",
      "metadata": {
        "colab": {
          "base_uri": "https://localhost:8080/",
          "height": 36
        },
        "id": "gRdn2r-lwEmg",
        "outputId": "27cb02ac-d320-47c7-dfb9-3601b72d4376"
      },
      "source": [
        "edad"
      ],
      "execution_count": null,
      "outputs": [
        {
          "output_type": "execute_result",
          "data": {
            "application/vnd.google.colaboratory.intrinsic+json": {
              "type": "string"
            },
            "text/plain": [
              "'46549848'"
            ]
          },
          "metadata": {},
          "execution_count": 44
        }
      ]
    },
    {
      "cell_type": "markdown",
      "metadata": {
        "id": "k51i5Hh1wlEg"
      },
      "source": [
        "**Condicional if/else**"
      ]
    },
    {
      "cell_type": "code",
      "metadata": {
        "colab": {
          "base_uri": "https://localhost:8080/"
        },
        "id": "KYP9QUaxwdLw",
        "outputId": "ace4260a-5494-4c9d-ef31-b9d7b28d4fa9"
      },
      "source": [
        "if nombre == 'Frida':\n",
        "  print('Hola nuevamente '+ nombre)\n",
        "  print('¿Cómo has estado?')\n",
        "  print('¿Cuántos años tienes?')\n",
        "  edad = input()\n",
        "else:\n",
        "  print('Lo sentimos, este acceso está restringido')\n",
        "  print('intenta más tarde')"
      ],
      "execution_count": null,
      "outputs": [
        {
          "output_type": "stream",
          "name": "stdout",
          "text": [
            "Lo sentimos, este acceso está restringido\n"
          ]
        }
      ]
    },
    {
      "cell_type": "markdown",
      "metadata": {
        "id": "JMMncA88zOFf"
      },
      "source": [
        "**Condicional if/elif/else**"
      ]
    },
    {
      "cell_type": "code",
      "metadata": {
        "id": "JCSX8dZvztH3"
      },
      "source": [
        "nombre = 'Luis'"
      ],
      "execution_count": null,
      "outputs": []
    },
    {
      "cell_type": "code",
      "metadata": {
        "colab": {
          "base_uri": "https://localhost:8080/"
        },
        "id": "X0BYa6nszSaG",
        "outputId": "5a5385be-2a82-4de3-f1ac-a2dacd19ddfc"
      },
      "source": [
        "if nombre == 'Frida': #Condicional 1\n",
        "  print('Hola nuevamente '+ nombre)\n",
        "  print('¿Cómo has estado?')\n",
        "  print('¿Cuántos años tienes?')\n",
        "  edad = input()\n",
        "elif nombre == 'Daniel': #Condicional 2\n",
        "  print('Hola '+ nombre)\n",
        "  print('¿Cómo estás?')\n",
        "  estado = input()\n",
        "elif nombre == 'Luis':\n",
        "  print('Bienvenido '+ nombre)\n",
        "else: #Todos los demás casos\n",
        "  print('Lo sentimos, este acceso está restringido')\n",
        "  print('intenta más tarde')"
      ],
      "execution_count": null,
      "outputs": [
        {
          "output_type": "stream",
          "name": "stdout",
          "text": [
            "Bienvenido Luis\n"
          ]
        }
      ]
    },
    {
      "cell_type": "markdown",
      "metadata": {
        "id": "Ddset0ZP1eaW"
      },
      "source": [
        "# Ciclos for"
      ]
    },
    {
      "cell_type": "code",
      "metadata": {
        "id": "pyiShYWI20zc"
      },
      "source": [
        "lista = [1,2,3,4,5,6,7]"
      ],
      "execution_count": null,
      "outputs": []
    },
    {
      "cell_type": "code",
      "metadata": {
        "colab": {
          "base_uri": "https://localhost:8080/"
        },
        "id": "CKfovcr8zxxm",
        "outputId": "033b8eb7-2fb6-48aa-c323-b053d1e81949"
      },
      "source": [
        "for elemento in lista:\n",
        "  print(elemento*2)"
      ],
      "execution_count": null,
      "outputs": [
        {
          "output_type": "stream",
          "name": "stdout",
          "text": [
            "2\n",
            "4\n",
            "6\n",
            "8\n",
            "10\n",
            "12\n",
            "14\n"
          ]
        }
      ]
    },
    {
      "cell_type": "code",
      "metadata": {
        "colab": {
          "base_uri": "https://localhost:8080/"
        },
        "id": "z-gdHXjc2zwW",
        "outputId": "da86c491-c681-4118-d9d8-b81a809e75f6"
      },
      "source": [
        "for n in range(10):\n",
        "  print(n)"
      ],
      "execution_count": null,
      "outputs": [
        {
          "output_type": "stream",
          "name": "stdout",
          "text": [
            "0\n",
            "1\n",
            "2\n",
            "3\n",
            "4\n",
            "5\n",
            "6\n",
            "7\n",
            "8\n",
            "9\n"
          ]
        }
      ]
    },
    {
      "cell_type": "code",
      "metadata": {
        "id": "Aoa4eC2M4QHe"
      },
      "source": [
        "mi_lista = [1,2,3,4,5,6,7,8,9,10]"
      ],
      "execution_count": null,
      "outputs": []
    },
    {
      "cell_type": "code",
      "metadata": {
        "id": "Q6GZiWPv4YJY"
      },
      "source": [
        "filtrado = []\n",
        "restantes = []"
      ],
      "execution_count": null,
      "outputs": []
    },
    {
      "cell_type": "code",
      "metadata": {
        "id": "gz3Amkp04did"
      },
      "source": [
        "for num in mi_lista:\n",
        "  if num %2 ==0:\n",
        "    filtrado.append(num)\n",
        "  else:\n",
        "    restantes.append(num)"
      ],
      "execution_count": null,
      "outputs": []
    },
    {
      "cell_type": "code",
      "metadata": {
        "colab": {
          "base_uri": "https://localhost:8080/"
        },
        "id": "-kiUYnFY45fV",
        "outputId": "e82fae60-8cc8-4b4b-c276-d77593731f3b"
      },
      "source": [
        "filtrado"
      ],
      "execution_count": null,
      "outputs": [
        {
          "output_type": "execute_result",
          "data": {
            "text/plain": [
              "[2, 4, 6, 8, 10]"
            ]
          },
          "metadata": {},
          "execution_count": 64
        }
      ]
    },
    {
      "cell_type": "code",
      "metadata": {
        "colab": {
          "base_uri": "https://localhost:8080/"
        },
        "id": "NuhXIIJy48NV",
        "outputId": "13587dcb-39bb-4edd-ee33-cae70154eff9"
      },
      "source": [
        "restantes"
      ],
      "execution_count": null,
      "outputs": [
        {
          "output_type": "execute_result",
          "data": {
            "text/plain": [
              "[1, 3, 5, 7, 9]"
            ]
          },
          "metadata": {},
          "execution_count": 68
        }
      ]
    },
    {
      "cell_type": "code",
      "metadata": {
        "colab": {
          "base_uri": "https://localhost:8080/"
        },
        "id": "gBX2hZeu5MJ-",
        "outputId": "f9ca7d62-c8b2-42bd-b997-0b2887cab07e"
      },
      "source": [
        "for x in 'Bienvenido':\n",
        "  print(f'Dame una {x}')\n",
        "print('¡Bienveido!')"
      ],
      "execution_count": null,
      "outputs": [
        {
          "output_type": "stream",
          "name": "stdout",
          "text": [
            "Dame una B\n",
            "Dame una i\n",
            "Dame una e\n",
            "Dame una n\n",
            "Dame una v\n",
            "Dame una e\n",
            "Dame una n\n",
            "Dame una i\n",
            "Dame una d\n",
            "Dame una o\n",
            "¡Bienveido!\n"
          ]
        }
      ]
    },
    {
      "cell_type": "code",
      "metadata": {
        "id": "EIGz1hQ35nG9"
      },
      "source": [
        "vocales = ['a','e','i','o','u']"
      ],
      "execution_count": null,
      "outputs": []
    },
    {
      "cell_type": "code",
      "metadata": {
        "colab": {
          "base_uri": "https://localhost:8080/"
        },
        "id": "M_rBcH5h527F",
        "outputId": "4b961eaf-4ef9-424f-b82d-21b7ee9e2e9a"
      },
      "source": [
        "for num in 'Bienvenido':\n",
        "  if num in vocales:\n",
        "    print(f'vocal: {num}')\n",
        "  else:\n",
        "    print(f'consonante: {num}')"
      ],
      "execution_count": null,
      "outputs": [
        {
          "output_type": "stream",
          "name": "stdout",
          "text": [
            "consonante: B\n",
            "vocal: i\n",
            "vocal: e\n",
            "consonante: n\n",
            "consonante: v\n",
            "vocal: e\n",
            "consonante: n\n",
            "vocal: i\n",
            "consonante: d\n",
            "vocal: o\n"
          ]
        }
      ]
    },
    {
      "cell_type": "markdown",
      "metadata": {
        "id": "tPVBmWLU60JS"
      },
      "source": [
        "# Ciclos while"
      ]
    },
    {
      "cell_type": "markdown",
      "metadata": {
        "id": "ytqvwT0Z62-0"
      },
      "source": [
        "Imprime i mientras i sea menor que 10"
      ]
    },
    {
      "cell_type": "code",
      "metadata": {
        "colab": {
          "base_uri": "https://localhost:8080/"
        },
        "id": "TTb2Q2XZ6Lwe",
        "outputId": "584386e8-fbe5-4eb0-c170-69a957c8f0ba"
      },
      "source": [
        "i = 5\n",
        "while i <10:\n",
        "  print(f'Hola {i}')\n",
        "  i += 2"
      ],
      "execution_count": null,
      "outputs": [
        {
          "output_type": "stream",
          "name": "stdout",
          "text": [
            "Hola 5\n",
            "Hola 7\n",
            "Hola 9\n"
          ]
        }
      ]
    },
    {
      "cell_type": "code",
      "metadata": {
        "id": "HEWHreXk7im0"
      },
      "source": [
        ""
      ],
      "execution_count": null,
      "outputs": []
    }
  ]
}