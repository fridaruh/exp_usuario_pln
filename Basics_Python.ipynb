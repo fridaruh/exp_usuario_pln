{
  "nbformat": 4,
  "nbformat_minor": 0,
  "metadata": {
    "colab": {
      "name": "Basics Python",
      "provenance": [],
      "include_colab_link": true
    },
    "kernelspec": {
      "name": "python3",
      "display_name": "Python 3"
    },
    "language_info": {
      "name": "python"
    }
  },
  "cells": [
    {
      "cell_type": "markdown",
      "metadata": {
        "id": "view-in-github",
        "colab_type": "text"
      },
      "source": [
        "<a href=\"https://colab.research.google.com/github/fridaruh/exp_usuario_pln/blob/master/Basics_Python.ipynb\" target=\"_parent\"><img src=\"https://colab.research.google.com/assets/colab-badge.svg\" alt=\"Open In Colab\"/></a>"
      ]
    },
    {
      "cell_type": "markdown",
      "metadata": {
        "id": "kYwPTsb3vRIX"
      },
      "source": [
        "# Condicionales"
      ]
    },
    {
      "cell_type": "markdown",
      "metadata": {
        "id": "c5oz7oJLvULJ"
      },
      "source": [
        "**Condicional if**"
      ]
    },
    {
      "cell_type": "code",
      "metadata": {
        "id": "exXDTAc_vTM_"
      },
      "source": [
        "#Definir una variable con un nombre"
      ],
      "execution_count": null,
      "outputs": []
    },
    {
      "cell_type": "code",
      "metadata": {
        "id": "2yNILQhmvXTf"
      },
      "source": [
        "nombre = 'Frida'"
      ],
      "execution_count": 1,
      "outputs": []
    },
    {
      "cell_type": "code",
      "metadata": {
        "id": "HqksSL5IbiFJ"
      },
      "source": [
        ""
      ],
      "execution_count": null,
      "outputs": []
    },
    {
      "cell_type": "code",
      "metadata": {
        "id": "J_XWACdvbf_Q",
        "outputId": "30cda347-6cd5-474e-f104-8bc7fac808bd",
        "colab": {
          "base_uri": "https://localhost:8080/",
          "height": 36
        }
      },
      "source": [
        "nombre"
      ],
      "execution_count": 2,
      "outputs": [
        {
          "output_type": "execute_result",
          "data": {
            "application/vnd.google.colaboratory.intrinsic+json": {
              "type": "string"
            },
            "text/plain": [
              "'Frida'"
            ]
          },
          "metadata": {},
          "execution_count": 2
        }
      ]
    },
    {
      "cell_type": "code",
      "metadata": {
        "id": "KNh2qfM2cZpS",
        "outputId": "10f7d2b7-6b4d-4a9e-e0f5-e97dd9e8f558",
        "colab": {
          "base_uri": "https://localhost:8080/"
        }
      },
      "source": [
        "print(nombre)"
      ],
      "execution_count": 4,
      "outputs": [
        {
          "output_type": "stream",
          "name": "stdout",
          "text": [
            "Frida\n"
          ]
        }
      ]
    },
    {
      "cell_type": "code",
      "metadata": {
        "colab": {
          "base_uri": "https://localhost:8080/"
        },
        "id": "qJy4lh09vZen",
        "outputId": "819575bc-e39b-48be-e015-87940cbf2dbd"
      },
      "source": [
        "print('Introduce un nombre')\n",
        "nombre = input()"
      ],
      "execution_count": 8,
      "outputs": [
        {
          "name": "stdout",
          "output_type": "stream",
          "text": [
            "Introduce un nombre\n",
            "Frida\n"
          ]
        }
      ]
    },
    {
      "cell_type": "code",
      "metadata": {
        "colab": {
          "base_uri": "https://localhost:8080/",
          "height": 36
        },
        "id": "WkVQ6u9VvibP",
        "outputId": "b14642be-fa8c-4b90-e29c-5b2c9084da7f"
      },
      "source": [
        "nombre"
      ],
      "execution_count": 6,
      "outputs": [
        {
          "output_type": "execute_result",
          "data": {
            "application/vnd.google.colaboratory.intrinsic+json": {
              "type": "string"
            },
            "text/plain": [
              "'Cesar'"
            ]
          },
          "metadata": {},
          "execution_count": 6
        }
      ]
    },
    {
      "cell_type": "code",
      "metadata": {
        "colab": {
          "base_uri": "https://localhost:8080/"
        },
        "id": "FXrQbam8vo8v",
        "outputId": "41a031da-2f71-4a60-e194-cbe836df8c0a"
      },
      "source": [
        "if nombre == 'Frida':\n",
        "  print('Hola nuevamente '+ nombre)\n",
        "  print('¿Cómo has estado?')\n",
        "  print('¿Cuántos años tienes?')\n",
        "  edad = input()\n"
      ],
      "execution_count": 9,
      "outputs": [
        {
          "name": "stdout",
          "output_type": "stream",
          "text": [
            "Hola nuevamente Frida\n",
            "¿Cómo has estado?\n",
            "¿Cuántos años tienes?\n",
            "847984\n"
          ]
        }
      ]
    },
    {
      "cell_type": "code",
      "metadata": {
        "colab": {
          "base_uri": "https://localhost:8080/",
          "height": 36
        },
        "id": "gRdn2r-lwEmg",
        "outputId": "9feeec8e-5648-4e86-bbee-3571ab6edd54"
      },
      "source": [
        "edad"
      ],
      "execution_count": 10,
      "outputs": [
        {
          "output_type": "execute_result",
          "data": {
            "application/vnd.google.colaboratory.intrinsic+json": {
              "type": "string"
            },
            "text/plain": [
              "'847984'"
            ]
          },
          "metadata": {},
          "execution_count": 10
        }
      ]
    },
    {
      "cell_type": "markdown",
      "metadata": {
        "id": "k51i5Hh1wlEg"
      },
      "source": [
        "**Condicional if/else**"
      ]
    },
    {
      "cell_type": "code",
      "metadata": {
        "colab": {
          "base_uri": "https://localhost:8080/"
        },
        "id": "KYP9QUaxwdLw",
        "outputId": "ac7b279b-914e-4b7a-ad19-8211cfaa5b33"
      },
      "source": [
        "if nombre == 'Frida':\n",
        "  print('Hola nuevamente '+ nombre)\n",
        "  print('¿Cómo has estado?')\n",
        "  print('¿Cuántos años tienes?')\n",
        "  edad = input()\n",
        "else:\n",
        "  print('Lo sentimos, este acceso está restringido')\n",
        "  print('intenta más tarde')"
      ],
      "execution_count": 13,
      "outputs": [
        {
          "output_type": "stream",
          "name": "stdout",
          "text": [
            "Lo sentimos, este acceso está restringido\n",
            "intenta más tarde\n"
          ]
        }
      ]
    },
    {
      "cell_type": "code",
      "metadata": {
        "id": "UU5lOQaGdg2E"
      },
      "source": [
        "nombre = 'Joaquin'"
      ],
      "execution_count": 12,
      "outputs": []
    },
    {
      "cell_type": "markdown",
      "metadata": {
        "id": "JMMncA88zOFf"
      },
      "source": [
        "**Condicional if/elif/else**"
      ]
    },
    {
      "cell_type": "code",
      "metadata": {
        "id": "JCSX8dZvztH3"
      },
      "source": [
        "nombre = 'Luis'"
      ],
      "execution_count": null,
      "outputs": []
    },
    {
      "cell_type": "code",
      "metadata": {
        "id": "bd1AdFurd6Y3"
      },
      "source": [
        "lista = ['Frida','Daniel','Luis']"
      ],
      "execution_count": 14,
      "outputs": []
    },
    {
      "cell_type": "code",
      "metadata": {
        "colab": {
          "base_uri": "https://localhost:8080/"
        },
        "id": "X0BYa6nszSaG",
        "outputId": "5a5385be-2a82-4de3-f1ac-a2dacd19ddfc"
      },
      "source": [
        "if nombre == 'Frida': #Condicional 1\n",
        "  print('Hola nuevamente '+ nombre)\n",
        "  print('¿Cómo has estado?')\n",
        "  print('¿Cuántos años tienes?')\n",
        "  edad = input()\n",
        "elif nombre == 'Daniel': #Condicional 2\n",
        "  print('Hola '+ nombre)\n",
        "  print('¿Cómo estás?')\n",
        "  estado = input()\n",
        "elif nombre == 'Luis': #Condicional 3\n",
        "  print('Bienvenido '+ nombre)\n",
        "else: #Todos los demás casos\n",
        "  print('Lo sentimos, este acceso está restringido')\n",
        "  print('intenta más tarde')"
      ],
      "execution_count": null,
      "outputs": [
        {
          "output_type": "stream",
          "name": "stdout",
          "text": [
            "Bienvenido Luis\n"
          ]
        }
      ]
    },
    {
      "cell_type": "markdown",
      "metadata": {
        "id": "Ddset0ZP1eaW"
      },
      "source": [
        "# Ciclos for"
      ]
    },
    {
      "cell_type": "code",
      "metadata": {
        "id": "pyiShYWI20zc"
      },
      "source": [
        "lista = [1,2,5,5,4,5,6,7]"
      ],
      "execution_count": 17,
      "outputs": []
    },
    {
      "cell_type": "code",
      "metadata": {
        "colab": {
          "base_uri": "https://localhost:8080/"
        },
        "id": "CKfovcr8zxxm",
        "outputId": "48787a36-c513-4d96-be7d-89bf8c8ca845"
      },
      "source": [
        "for elemento in lista:\n",
        "  print(elemento*2)"
      ],
      "execution_count": 18,
      "outputs": [
        {
          "output_type": "stream",
          "name": "stdout",
          "text": [
            "2\n",
            "4\n",
            "10\n",
            "10\n",
            "8\n",
            "10\n",
            "12\n",
            "14\n"
          ]
        }
      ]
    },
    {
      "cell_type": "code",
      "metadata": {
        "colab": {
          "base_uri": "https://localhost:8080/"
        },
        "id": "z-gdHXjc2zwW",
        "outputId": "22f59437-35f1-42cf-96a1-a0691456eff3"
      },
      "source": [
        "for numero in range(15):\n",
        "  print(numero)"
      ],
      "execution_count": 20,
      "outputs": [
        {
          "output_type": "stream",
          "name": "stdout",
          "text": [
            "0\n",
            "1\n",
            "2\n",
            "3\n",
            "4\n",
            "5\n",
            "6\n",
            "7\n",
            "8\n",
            "9\n",
            "10\n",
            "11\n",
            "12\n",
            "13\n",
            "14\n"
          ]
        }
      ]
    },
    {
      "cell_type": "code",
      "metadata": {
        "id": "Aoa4eC2M4QHe"
      },
      "source": [
        "mi_lista = [1,2,3,4,5,6,7,8,9,10]"
      ],
      "execution_count": 21,
      "outputs": []
    },
    {
      "cell_type": "code",
      "metadata": {
        "id": "Q6GZiWPv4YJY"
      },
      "source": [
        "pares = []\n",
        "impares = []"
      ],
      "execution_count": 25,
      "outputs": []
    },
    {
      "cell_type": "code",
      "metadata": {
        "id": "gz3Amkp04did"
      },
      "source": [
        "for num in mi_lista:\n",
        "  if num %2 ==0:\n",
        "    pares.append(num)\n",
        "  else:\n",
        "    impares.append(num)"
      ],
      "execution_count": 26,
      "outputs": []
    },
    {
      "cell_type": "code",
      "metadata": {
        "colab": {
          "base_uri": "https://localhost:8080/"
        },
        "id": "-kiUYnFY45fV",
        "outputId": "19d3b99b-21ec-4981-9341-73de9b0dd698"
      },
      "source": [
        "pares"
      ],
      "execution_count": 27,
      "outputs": [
        {
          "output_type": "execute_result",
          "data": {
            "text/plain": [
              "[2, 4, 6, 8, 10]"
            ]
          },
          "metadata": {},
          "execution_count": 27
        }
      ]
    },
    {
      "cell_type": "code",
      "metadata": {
        "colab": {
          "base_uri": "https://localhost:8080/"
        },
        "id": "NuhXIIJy48NV",
        "outputId": "2452afe8-2ce1-458e-ce68-c3f2d7a27115"
      },
      "source": [
        "impares"
      ],
      "execution_count": 28,
      "outputs": [
        {
          "output_type": "execute_result",
          "data": {
            "text/plain": [
              "[1, 3, 5, 7, 9]"
            ]
          },
          "metadata": {},
          "execution_count": 28
        }
      ]
    },
    {
      "cell_type": "code",
      "metadata": {
        "colab": {
          "base_uri": "https://localhost:8080/"
        },
        "id": "gBX2hZeu5MJ-",
        "outputId": "26370d4f-c502-4e73-9292-7ed8e761a332"
      },
      "source": [
        "for x in 'Bienvenido':\n",
        "  print(f'Dame una {x}')\n",
        "print('¡Bienvenido!')"
      ],
      "execution_count": 32,
      "outputs": [
        {
          "output_type": "stream",
          "name": "stdout",
          "text": [
            "Dame una B\n",
            "Dame una i\n",
            "Dame una e\n",
            "Dame una n\n",
            "Dame una v\n",
            "Dame una e\n",
            "Dame una n\n",
            "Dame una i\n",
            "Dame una d\n",
            "Dame una o\n",
            "¡Bienvenido!\n"
          ]
        }
      ]
    },
    {
      "cell_type": "code",
      "metadata": {
        "id": "KjK80xMFxU4x"
      },
      "source": [
        "direccion_a = 'direccion1'"
      ],
      "execution_count": 37,
      "outputs": []
    },
    {
      "cell_type": "code",
      "metadata": {
        "id": "NJrsp-0sxVFg"
      },
      "source": [
        "direccion_b = 'direccion1' "
      ],
      "execution_count": 38,
      "outputs": []
    },
    {
      "cell_type": "code",
      "metadata": {
        "id": "FuY1KaSRxVJH"
      },
      "source": [
        "direccion_c = 'direccion1' "
      ],
      "execution_count": 39,
      "outputs": []
    },
    {
      "cell_type": "code",
      "metadata": {
        "id": "mcBST2-wxVQl",
        "outputId": "e43a2d4e-c48b-4468-e26e-86b75e25feb8",
        "colab": {
          "base_uri": "https://localhost:8080/"
        }
      },
      "source": [
        "direccion_a == direccion_b"
      ],
      "execution_count": 40,
      "outputs": [
        {
          "output_type": "execute_result",
          "data": {
            "text/plain": [
              "True"
            ]
          },
          "metadata": {},
          "execution_count": 40
        }
      ]
    },
    {
      "cell_type": "code",
      "metadata": {
        "id": "EIGz1hQ35nG9"
      },
      "source": [
        "vocales = ['a','e','i','o','u']\n",
        "#vocales_a = ['á','é','í','ó','ú']"
      ],
      "execution_count": 41,
      "outputs": []
    },
    {
      "cell_type": "code",
      "metadata": {
        "colab": {
          "base_uri": "https://localhost:8080/"
        },
        "id": "M_rBcH5h527F",
        "outputId": "0251d9b9-5888-4080-a17d-b43c13e053da"
      },
      "source": [
        "for num in 'Bienvenido':\n",
        "  if num in vocales:\n",
        "    print(f'vocal: {num}')\n",
        "  else:\n",
        "    print(f'consonante: {num}')"
      ],
      "execution_count": 44,
      "outputs": [
        {
          "output_type": "stream",
          "name": "stdout",
          "text": [
            "consonante: B\n",
            "vocal: i\n",
            "vocal: e\n",
            "consonante: n\n",
            "consonante: v\n",
            "vocal: e\n",
            "consonante: n\n",
            "vocal: i\n",
            "consonante: d\n",
            "vocal: o\n"
          ]
        }
      ]
    },
    {
      "cell_type": "markdown",
      "metadata": {
        "id": "tPVBmWLU60JS"
      },
      "source": [
        "# Ciclos while"
      ]
    },
    {
      "cell_type": "markdown",
      "metadata": {
        "id": "ytqvwT0Z62-0"
      },
      "source": [
        "Imprime i mientras i sea menor que 10"
      ]
    },
    {
      "cell_type": "code",
      "metadata": {
        "colab": {
          "base_uri": "https://localhost:8080/"
        },
        "id": "TTb2Q2XZ6Lwe",
        "outputId": "49af4eeb-ec1e-411f-9205-1a6353621e7a"
      },
      "source": [
        "i = -1\n",
        "while i <10:\n",
        "  print(f'Hola {i}')\n",
        "  print(f'Variable x2: {i*2}')\n",
        "  i += 1"
      ],
      "execution_count": 48,
      "outputs": [
        {
          "output_type": "stream",
          "name": "stdout",
          "text": [
            "Hola -1\n",
            "Variable x2: -2\n",
            "Hola 0\n",
            "Variable x2: 0\n",
            "Hola 1\n",
            "Variable x2: 2\n",
            "Hola 2\n",
            "Variable x2: 4\n",
            "Hola 3\n",
            "Variable x2: 6\n",
            "Hola 4\n",
            "Variable x2: 8\n",
            "Hola 5\n",
            "Variable x2: 10\n",
            "Hola 6\n",
            "Variable x2: 12\n",
            "Hola 7\n",
            "Variable x2: 14\n",
            "Hola 8\n",
            "Variable x2: 16\n",
            "Hola 9\n",
            "Variable x2: 18\n"
          ]
        }
      ]
    },
    {
      "cell_type": "code",
      "metadata": {
        "id": "HEWHreXk7im0"
      },
      "source": [
        ""
      ],
      "execution_count": null,
      "outputs": []
    }
  ]
}