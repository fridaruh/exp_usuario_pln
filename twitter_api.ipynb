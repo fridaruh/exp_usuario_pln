{
  "nbformat": 4,
  "nbformat_minor": 0,
  "metadata": {
    "colab": {
      "name": "twitter_regreso_clases.ipynb",
      "provenance": [],
      "collapsed_sections": [],
      "include_colab_link": true
    },
    "kernelspec": {
      "name": "python3",
      "display_name": "Python 3"
    },
    "language_info": {
      "name": "python"
    }
  },
  "cells": [
    {
      "cell_type": "markdown",
      "metadata": {
        "id": "view-in-github",
        "colab_type": "text"
      },
      "source": [
        "<a href=\"https://colab.research.google.com/github/fridaruh/exp_usuario_pln/blob/master/twitter_api.ipynb\" target=\"_parent\"><img src=\"https://colab.research.google.com/assets/colab-badge.svg\" alt=\"Open In Colab\"/></a>"
      ]
    },
    {
      "cell_type": "code",
      "metadata": {
        "id": "NlK4OXJHhy5C"
      },
      "source": [
        "consumer_key = ''\n",
        "consumer_secret = ''\n",
        "access_token = ''\n",
        "access_token_secret = ''"
      ],
      "execution_count": null,
      "outputs": []
    },
    {
      "cell_type": "code",
      "metadata": {
        "id": "mCxONfXFh11F"
      },
      "source": [
        "import tweepy\n",
        "import pandas as pd"
      ],
      "execution_count": null,
      "outputs": []
    },
    {
      "cell_type": "code",
      "metadata": {
        "id": "l4N7-P3ch_3M"
      },
      "source": [
        "auth = tweepy.OAuthHandler(consumer_key, consumer_secret)\n",
        "auth.set_access_token(access_token, access_token_secret)"
      ],
      "execution_count": null,
      "outputs": []
    },
    {
      "cell_type": "code",
      "metadata": {
        "id": "71zF5CPEiD5K"
      },
      "source": [
        "api = tweepy.API(auth)"
      ],
      "execution_count": null,
      "outputs": []
    },
    {
      "cell_type": "code",
      "metadata": {
        "colab": {
          "base_uri": "https://localhost:8080/"
        },
        "id": "73P4ei31iLBT",
        "outputId": "af46dc77-6a65-4c08-afed-aa3e4a61e048"
      },
      "source": [
        "twitter_users = []\n",
        "tweet_time = []\n",
        "tweet_string = []\n",
        "\n",
        "for tweet in tweepy.Cursor(api.search , q='regreso a clases', count=1000).items(1000):\n",
        "  if (not tweet.retweeted) and ('RT @' not in tweet.text):\n",
        "    if tweet.lang == 'es':\n",
        "      twitter_users.append(tweet.user.name)\n",
        "      tweet_time.append(tweet.created_at)\n",
        "      tweet_string.append(tweet.text)\n",
        "\n",
        "      print([tweet.user.name,tweet.created_at, tweet.text])"
      ],
      "execution_count": null,
      "outputs": [
        {
          "output_type": "stream",
          "text": [
            "['B. Leos', datetime.datetime(2021, 5, 21, 1, 32, 44), 'El dichoso regreso a clases , me parece politiquería, de esa que según ya no hay, no creo que sea coincidencia que… https://t.co/W259W7QiuI']\n",
            "['Foro_TV', datetime.datetime(2021, 5, 21, 1, 32, 42), 'Las papelerías del Centro Histórico, se preparan para el regreso voluntario a clases. Sin embargo, los comerciantes… https://t.co/03tomE1QiZ']\n",
            "['MAM_RyTv', datetime.datetime(2021, 5, 21, 1, 32, 22), 'Telefórmula - Grupo Fórmula/ José Cárdenas Informa/ @Luis__Humberto, titular de la @AEF_CM, aseguró que ya hay cond… https://t.co/vkEHLiCSpL']\n",
            "['Nacho J', datetime.datetime(2021, 5, 21, 1, 32, 17), '48 horas en este País se Convirtieron en Largo Plazo.\\n\\nhttps://t.co/umn9EPn3gW']\n",
            "['Monicucha', datetime.datetime(2021, 5, 21, 1, 32, 16), 'Oye Isaaaaaa @isabellemexico on andas? Para hablar del supuesto regreso a clases yen qué condiciones están las escu… https://t.co/WuHGB5H06s']\n",
            "['liliane Basurto', datetime.datetime(2021, 5, 21, 1, 32, 7), 'excelente , alistandonos para el regreso a clases https://t.co/EHTSKB7yDO']\n",
            "['Memeet', datetime.datetime(2021, 5, 21, 1, 31, 29), 'Todos viendo que ya hay fecha de regreso a clases presenciales: https://t.co/i9XnxeUFMn']\n",
            "['MAM_RyTv', datetime.datetime(2021, 5, 21, 1, 30, 46), 'Telefórmula - Grupo Fórmula/ José Cárdenas Informa/ @DavidResortera, presidente ejecutivo de @Mexicanos1o, acusó qu… https://t.co/6wsej8mcln']\n",
            "['HCH Televisión Digital', datetime.datetime(2021, 5, 21, 1, 30, 21), '🤖🤖#HCHInternacional🤖🤖\\nBenebot, el robot que ayudará a detectar el covid-19 y el regreso a clases presenciales… https://t.co/7mTeCSRcmn']\n",
            "['88.9 Noticias', datetime.datetime(2021, 5, 21, 1, 30), 'La @SEGOB_mx reconoció que reactivar miles de escuelas no será fácil, por lo que solicitó el apoyo de los gobernado… https://t.co/owj13Dp7wp']\n",
            "['ECO TV', datetime.datetime(2021, 5, 21, 1, 30), '➡️Sintonice ya el programa #MitosyVerdades del Regreso a Clases Semipresenciales📒con @SusanCast . Autoridades, grem… https://t.co/EJu6b5pt8o']\n",
            "['Pedro porras', datetime.datetime(2021, 5, 21, 1, 29, 58), '#RegresoAClasesEsHomicidio, sin vacunas no hay clases presenciales. Arriesgamos a nuestras familias. Necesitamos ag… https://t.co/emOJo094iG']\n",
            "['YaEsHora', datetime.datetime(2021, 5, 21, 1, 29, 5), 'Edomex programa regreso a clases presenciales en junio, ante baja de casos COVID https://t.co/huX0aT3CQw https://t.co/vuBDHHqS2l']\n",
            "['Leticia Sierra', datetime.datetime(2021, 5, 21, 1, 29, 4), 'Edomex programa regreso a clases presenciales en junio, ante baja de casos COVID https://t.co/hN5GclUl3d https://t.co/JM6Tvs5X6t']\n",
            "['ElSana', datetime.datetime(2021, 5, 21, 1, 28, 51), '@pavelunes @Monicucha @fisicogarcia Que suerte que la recaudación de impuestos sigue a la alza y que se cuenta con… https://t.co/xsyrw54Nkp']\n",
            "['Sandra Cano Miranda', datetime.datetime(2021, 5, 21, 1, 28, 28), 'El lunes regreso al colegio. Desde ahí transmitirnos clases a distancia. La siguiente semana será el programa pilot… https://t.co/opJWiILZrO']\n",
            "['Foro_TV', datetime.datetime(2021, 5, 21, 1, 27, 55), 'Benebot, el robot que detectará el COVID en el regreso a clases en Querétaro https://t.co/xtFkTHW32s https://t.co/Lth8JzBUvm']\n",
            "['Wenceslao', datetime.datetime(2021, 5, 21, 1, 27, 26), 'Regreso a clases, hasta nuevo ciclo, deciden padres de niños de preescolar, en Tihuatlán - Al Calor Político - https://t.co/iGLiKCo0Up']\n",
            "['Gobernación', datetime.datetime(2021, 5, 21, 1, 27, 1), 'Resalta Gobernación trabajo coordinado de integrantes del @GobiernoMX, gobernadora, jefa de Gobierno y gobernadores… https://t.co/8sYuk2kCkV']\n",
            "['Wenceslao', datetime.datetime(2021, 5, 21, 1, 26, 33), 'Robot que detecta covid-19 espera a alumnos en el regreso a clases - Querétaro https://t.co/ottfwXTsk2']\n",
            "['Noticieros Televisa', datetime.datetime(2021, 5, 21, 1, 25, 14), 'Esta tecnología también ayuda en la detección de otras enfermedades como la gripe y la varicela\\nhttps://t.co/dK9hYY2WKb']\n",
            "['𝕁ℂ ℝ𝕠𝕕𝕣𝕚𝕘𝕦𝕖𝕫', datetime.datetime(2021, 5, 21, 1, 24, 22), 'Alguien me puede decir que onda con el regreso a clases presenciales? Leí por ahí que ya hay una fecha y así pero n… https://t.co/XKZ4j9JOW2']\n",
            "['Tif ☻', datetime.datetime(2021, 5, 21, 1, 23, 39), 'el regreso a clases está arruinando mis planes del 29 noooO']\n",
            "['mai ♡', datetime.datetime(2021, 5, 21, 1, 23, 34), 'Lo del regreso a clases está pensado para gente 100% sana y obviamente vacunada. No entro en ninguna de las dos.']\n",
            "['ᴋᴀʟɪ ᴡƎᴇᴅɪᴍ ✭', datetime.datetime(2021, 5, 21, 1, 23, 33), '05/20/2021\\n\\nJueves opening day; un paso más para volver a la normalidad, hoy después de la cancelación de la tempor… https://t.co/8N1dXkMEkf']\n",
            "['коогомі♡⁷\\U0001f9c8', datetime.datetime(2021, 5, 21, 1, 22, 17), 'mi amá anda bien preocupada por el regreso a clases ayyyy :((']\n",
            "['El Dólar Diario 🇻🇪', datetime.datetime(2021, 5, 21, 1, 21), '!ATENTOS! ¿Cuántas veces se ha postergado el regreso a clases presenciales en Venezuela?  |  \\n\\nhttps://t.co/VjjB3W48K7']\n",
            "['Perra Ruin', datetime.datetime(2021, 5, 21, 1, 20, 53), 'Anuncian el regreso a clases \\n\\nYo: https://t.co/eFiw6VPf1Y']\n",
            "['Xitlali', datetime.datetime(2021, 5, 21, 1, 20, 22), '4 botellas de gel antibacterial, 2 bolsas de jabón..... el súper kit con el que el gobierno ha dotado  a las escuel… https://t.co/WawpzMvga0']\n",
            "['Diario Expreso', datetime.datetime(2021, 5, 21, 1, 20, 4), 'Algunos centros educativos del central estado mexicano de Querétaro plantean su regreso a clases con el apoyo de Be… https://t.co/5NWELmkIcA']\n",
            "['Diario del Sur', datetime.datetime(2021, 5, 21, 1, 20), 'De forma escalonada y con la revisión de los protocolos sanitarios, el COBACH retomó sus actividades académicas \\nhttps://t.co/4k5r2NQ6JM']\n",
            "['Mon', datetime.datetime(2021, 5, 21, 1, 18, 39), '@reformanacional @IsabelTrevio4 @SSalud_mx 230 muertos más pero nada pasa. Regreso a clases']\n",
            "['Marco Sanchez-Guerra', datetime.datetime(2021, 5, 21, 1, 18, 15), 'Hoy estaré con Javier Solorzano @JavierSolorzano después de las 9:30 en #ElHeraldoTv. Hablaremos de regreso a clase… https://t.co/XOf5QSXkYC']\n",
            "['Paulina', datetime.datetime(2021, 5, 21, 1, 18, 3), 'ya no me gustó, me estaba quejando del regreso a clases y me dijo “deja tú el covid, mandaste alv a todos” https://t.co/Di5DQt9pQb']\n",
            "['Omar Galicia', datetime.datetime(2021, 5, 21, 1, 17, 56), '@LdaCantinas Eso y ver si puede ahorrarse más dinero en la compra de vacunas apostandole a la inmunidad de rebaño.… https://t.co/4YlrdAFIgJ']\n",
            "['Roddwes', datetime.datetime(2021, 5, 21, 1, 17, 16), 'Hablan de un regreso a clases escalonado y voluntario.\\nAlgunos entienden un regreso obligatorio y simultáneo.\\n🤨']\n",
            "['Magda Mendez', datetime.datetime(2021, 5, 21, 1, 17, 3), 'Cantado en EDOMEX , Regreso  a clases presenciales. ☹\\nPor la economía \\nPor los padres\\nPor los niños\\nPor el 6 de jun… https://t.co/7sFpVrnZxh']\n",
            "['Alberto Peláez', datetime.datetime(2021, 5, 21, 1, 16, 25), '#HotDaysSamsClub para el regreso a clases https://t.co/h1YQKGPC83']\n",
            "['Caro de Segovia', datetime.datetime(2021, 5, 21, 1, 16, 17), 'Estudiantes marcharán en CDMX en contra del regreso a clases por riesgo de COVID https://t.co/QvBmLfjPkn']\n",
            "['Info Chiapas Oaxaca', datetime.datetime(2021, 5, 21, 1, 15, 20), 'Chiapas participa en reunión con la Federación para dar seguimiento a vacunación y regreso a clases https://t.co/H061MgV4yJ']\n",
            "['Marsupial', datetime.datetime(2021, 5, 21, 1, 15, 10), '@EnriqueAlfaroR  le imvito unos tacos si anuncia el regreso a clases hasta agosto y no en junio']\n",
            "['Grupo Vivo Multimedia 🇲🇽', datetime.datetime(2021, 5, 21, 1, 15), 'Un robot cuida a alumnos de Querétaro en regreso a clases https://t.co/ZQI9vUNOlw']\n",
            "['Pensamientos', datetime.datetime(2021, 5, 21, 1, 14), '#Educación 🏫 | Clases presenciales en Venezuela: ¿Qué ha dicho el régimen sobre el regreso a las aulas?  https://t.co/Olva1wvKAk']\n",
            "['zø (开)', datetime.datetime(2021, 5, 21, 1, 13, 54), 'Yo estaba viendo y quejándome del regreso a clases presencial hasta que recordé que ya no voy a clases, perdón, la… https://t.co/Nym6fYWm59']\n",
            "['Ese Juls', datetime.datetime(2021, 5, 21, 1, 13, 46), '@proceso @Claudiashein @MetroCDMX y el pejidente @lopezobrador_  puro choro con ustedes. Nomás distrayendo con el s… https://t.co/eJACvW7edS']\n",
            "['CATWLAC', datetime.datetime(2021, 5, 21, 1, 13, 15), 'Medidas sanitarias para el regreso a clases este 7 de junio https://t.co/eWFmJPe5Mr']\n",
            "['🌙 Tessa M', datetime.datetime(2021, 5, 21, 1, 12, 51), 'Creo que fue en 2009, yo salí a la Universidad a las 5:40am. \\n\\nA las 4pm, aún no volvía. \\n\\nMi familia preocupada me… https://t.co/GVDpuKIvhw']\n",
            "['R', datetime.datetime(2021, 5, 21, 1, 12, 7), 'Cómo que regreso a clases en mi cumpleaños????']\n",
            "['Nación321', datetime.datetime(2021, 5, 21, 1, 11, 56), 'Ni a los colegios particulares ni a algunos alumnos les gustó el anuncio del regreso a las aulas el próximo 7 de ju… https://t.co/Wug50hFkQP']\n",
            "['karla canseco', datetime.datetime(2021, 5, 21, 1, 11, 33), 'mi uni ya emitió comunicado de posible regreso a clases presenciales en agosto de manera híbrida... no sé si ponerm… https://t.co/qDe7JN1lOP']\n",
            "['Excélsior', datetime.datetime(2021, 5, 21, 1, 11), 'Las clases a distancia continuarán y los padres que quieran llevar a sus hijos a la escuela tendrán que firmar una… https://t.co/x1kkfFMl7y']\n",
            "['Antonio Arciniega', datetime.datetime(2021, 5, 21, 1, 9, 10), 'Algunos centros educativos de #Querétaro plantean su regreso a clases con el apoyo de \"Benebot\", robot capaz de det… https://t.co/JzIcQYu617']\n",
            "['.', datetime.datetime(2021, 5, 21, 1, 7, 42), 'Lo único que me preocupa del regreso a clases es que no se donde verga deje mi credencial']\n",
            "['SONORA ABIERTO', datetime.datetime(2021, 5, 21, 1, 7, 26), '\"Lo que me preocupa es que los jóvenes no tengan una escuela que esté preparada con instalaciones para afrontar est… https://t.co/kYCBRGmAm1']\n",
            "['Elisa Loera', datetime.datetime(2021, 5, 21, 1, 6, 47), '@Claudiashein @Claudiashein bien por proteger a los suyos y de verdad cuanta imprudencia es increíble q pretendan e… https://t.co/tw8giP7WIj']\n",
            "['ROLA', datetime.datetime(2021, 5, 21, 1, 6, 34), '@JaimeRdzNL Y ya mando a sus supervisores de Zona a revisar escuelas  libres de maleza, pintadas y con los servicio… https://t.co/Ozqz074hZN']\n",
            "['La Dama', datetime.datetime(2021, 5, 21, 1, 5, 53), '@julioastillero Ahorita todo es sólo para juntar votos: cabeza de vaca, el regreso a clases el 7, el juecesito enre… https://t.co/v9vCmjyA0w']\n",
            "['Voto Útil por México', datetime.datetime(2021, 5, 21, 1, 5, 3), '@LdaCantinas No se, pero algo apesta en ese anuncio del regreso a clases el 7 de Junio. Algo trae López entre manos… https://t.co/bGNFGysBe6']\n",
            "[\"A'\", datetime.datetime(2021, 5, 21, 1, 4, 56), 'Ay estoy muy nerviosa por el regreso a clases pero igual ya necesito ver a alguien para sentirme mejor :/\\n#dato']\n",
            "['Ivonne Suárez', datetime.datetime(2021, 5, 21, 1, 4, 39), '@Claudiashein @SEP_mx Que evidente su cortina de humo UN DÍA ANTES DE LA ELECCIÓN..... a medio mes de concluir el c… https://t.co/QnUD6uucOn']\n",
            "['Elisa Loera', datetime.datetime(2021, 5, 21, 1, 4, 21), '@Claudiashein @SEP_mx @Claudiasheinv de verdad cuanta imprudencia es increíble q pretendan el regreso a clases mejo… https://t.co/aCFrwNv92B']\n",
            "['Luis Ángel Rodríguez', datetime.datetime(2021, 5, 21, 1, 4, 1), 'Rechazan estudiantes el regreso a clases presenciales en #Durango, aseguran que no están dadas las condiciones sani… https://t.co/lHg6Jkcjac']\n",
            "['minelly', datetime.datetime(2021, 5, 21, 1, 2, 49), 'quieren hacer regreso a clases presenciales una vez que vacunen a los maestros chaUuu']\n",
            "['Latinus', datetime.datetime(2021, 5, 21, 1, 2, 21), 'SEP descarta modificar calendario escolar pese a vacunación y regreso a clases presenciales. #COVID19 #Coronavirus… https://t.co/NpM06wafTz']\n",
            "['María Provincia', datetime.datetime(2021, 5, 21, 1, 2, 16), 'Al gobierno le urge que olviden la tragedia del metro antes de las elecciones, así que nos distrae con el regreso a clases!!']\n",
            "['MVS Noticias', datetime.datetime(2021, 5, 21, 1, 1, 6), '🔴#AntesDeDormir\\nEscuelas particulares critican regreso a clases https://t.co/GXwzBumEJR']\n",
            "['Valdés', datetime.datetime(2021, 5, 21, 1, 0, 29), 'Este regreso a clases te tenemos las mejores laptops para tus clases en línea 💻🏠 \\n\\n𝐇𝐏 𝟏𝟓 𝐢𝟑-𝟏𝟎𝟎𝟓 𝟏.𝟐𝐆𝐡𝐳 – 𝟏𝟓″\\n$𝟕𝟐𝟗.… https://t.co/w9WLKAi6C5']\n",
            "['TV Azteca Hidalgo', datetime.datetime(2021, 5, 21, 1, 0, 1), 'El regreso a las clases presenciales esta a la vuelta de la esquina en la Ciudad de México. \\n#AztecaNoticias… https://t.co/HLqRu4n72M']\n",
            "['Tribuna Vigila', datetime.datetime(2021, 5, 21, 1, 0, 1), '#Entérate📰| Intervendrán cerca de 3 mil planteles educativos antes del regreso a clases presenciales. #Puebla \\nhttps://t.co/SCMz19UsYW']\n",
            "['El 5to Poder', datetime.datetime(2021, 5, 21, 0, 59, 56), 'Universidad Tecnológica de #SLRC reitera su oferta educativa y se declara lista para el regreso de clases presencia… https://t.co/4Rvvu8aexc']\n",
            "['Portal de', datetime.datetime(2021, 5, 21, 0, 59, 45), 'Anuncian ampliación de periodo de vacunación para docentes en el #EdoMex. Regreso a clases podría ser a mediados de… https://t.co/7Q7XEIzLMd']\n",
            "['Padres Organizados De Lomas De Zamora', datetime.datetime(2021, 5, 21, 0, 59, 13), 'Infobae\\n20/05\\nEn medio de definiciones y suba de casos, intendentes opositores le pidieron a Kicillof por la vuelta… https://t.co/7ZVvUvu23f']\n",
            "['Licenciada Cantinas ⚖️ 🥃', datetime.datetime(2021, 5, 21, 0, 58, 43), '¿El regreso a clases será para minimizar las derrotas de Morena el 6 de junio y como un distractor más?']\n",
            "['Humberto Zamora Ruiz', datetime.datetime(2021, 5, 21, 0, 57, 45), 'Benebot: robot detectará el COVID-19 este regreso a clases – Noticieros Televisa https://t.co/kdwj8Ottgy']\n",
            "['Thomas Font', datetime.datetime(2021, 5, 21, 0, 57, 36), '@Claudiashein @SEP_mx Sin vacunación masiva de padres y alumnos, no hay regreso a clases presenciales !']\n",
            "['Noticias Vespertinas', datetime.datetime(2021, 5, 21, 0, 57, 18), '#RegresoAClases |En el tema del regreso a clases se vislumbra un buen avance, luego que a dos semanas no se han rep… https://t.co/b2MhTSgFxh']\n",
            "['EosNoticiasSLP', datetime.datetime(2021, 5, 21, 0, 57, 10), 'Estudiantes marcharan contra el regreso a clases presenciales @EosNoticiasSLP https://t.co/BX6ehcSYky https://t.co/xWVVWNutaF']\n",
            "['Reporte Ciudadano', datetime.datetime(2021, 5, 21, 0, 57), 'Chiapas participa en reunión con la Federación para dar seguimiento a vacunación y regreso a clases INFO; https://t.co/K5zIcXafKZ']\n",
            "['El Sol de León', datetime.datetime(2021, 5, 21, 0, 56, 56), '#RegresoAClases |En el tema del regreso a clases se vislumbra un buen avance, luego que a dos semanas no se han rep… https://t.co/m1pdXWtMRW']\n",
            "['Periódico Enfoque', datetime.datetime(2021, 5, 21, 0, 56, 10), '3 mil escuelas de Puebla serán rehabilitadas para el regreso a clases presenciales https://t.co/1xtCyHcx9Y']\n",
            "['Sopitas', datetime.datetime(2021, 5, 21, 0, 56), 'Regios, pues ustedes también de regreso a la escuela:\\n\\nhttps://t.co/p0brfxuDYL']\n",
            "['El Noticiero', datetime.datetime(2021, 5, 21, 0, 55, 55), 'VIDEO | El presidente del COE Nacional, Juan Zapata, habló sobre las clases presenciales.\\n-\\n¿Existe posible regreso… https://t.co/BEkAJZwQeM']\n",
            "['Dago Torres', datetime.datetime(2021, 5, 21, 0, 55, 46), 'La gente de Facpya queriendo compartir memes sobre el regreso a clases la próxima semana pero ellos ya están de vac… https://t.co/ke5NOKzPep']\n",
            "['TC Televisión', datetime.datetime(2021, 5, 21, 0, 55, 43), 'VIDEO | El presidente del COE Nacional, Juan Zapata, habló sobre las clases presenciales.\\n-\\n¿Existe posible regreso… https://t.co/tTvHldGlPu']\n",
            "['Gricelda Torres', datetime.datetime(2021, 5, 21, 0, 55, 34), 'A partir del primero de junio se retorna a las aulas, con modelos híbridos. Aquí las fases del regreso a clases en… https://t.co/oPOWy8y2XZ']\n",
            "['Grell Whoo', datetime.datetime(2021, 5, 21, 0, 55, 18), '@alfa913fm \\nLes recomiendo Pied Piper ahora para el regreso a clases 💜🤣\\nPara que se animen a estudiar.']\n",
            "['Gricelda Torres', datetime.datetime(2021, 5, 21, 0, 54), '@triciretri Para los estudiantes que retomarán clases presenciales el primero de junio en cursos prácticos. Es part… https://t.co/iPZ7sUmu7e']\n",
            "['DKW', datetime.datetime(2021, 5, 21, 0, 53, 20), 'Regreso a clases ? Nunca tienen jabón para manos ni papel sanitario ya me imagino el gel anti bacterial lo van a re… https://t.co/TS3jwaDVA2']\n",
            "['El Universal', datetime.datetime(2021, 5, 21, 0, 53, 17), '#tiktokinforma con #eluniversalmx Así será el regreso a clases https://t.co/MSpIkGf7ba']\n",
            "['vanecia', datetime.datetime(2021, 5, 21, 0, 52, 55), '@sofiagarzaf Jajajajajaja wey como que regreso a clases el 31 de mayo, pues que no tienen vacaciones en el tec?']\n",
            "['Pritchard', datetime.datetime(2021, 5, 21, 0, 52, 38), 'No mamen,andaban en Cancún con sus hijos en medio de un chingo de gente en semana santa y ahorita dicen que les da… https://t.co/DrQTnlH2uw']\n",
            "['Pedro González', datetime.datetime(2021, 5, 21, 0, 52, 25), '¿Regreso a clases? | El Economista @eleconomista  https://t.co/Mgnl0hDQOt']\n",
            "['WaKeUP', datetime.datetime(2021, 5, 21, 0, 50, 55), 'Conchita, hace 2 dias, dijo que no se volvia a Fase 1 ... Hoy dice que se vuelve, Gobierno de cientificos https://t.co/uvYyGFovOX']\n",
            "['Celic depressive era. 😭😭😭\\U0001f90d', datetime.datetime(2021, 5, 21, 0, 50, 31), '@lopezobrador_\\nSeñorcomo pretende  hacer el regreso a clases si aún no terminan de vacunar a la población, nosotros… https://t.co/K7ZB20HnxF']\n",
            "['Las Noticias', datetime.datetime(2021, 5, 21, 0, 50), '#LasNoticiasMty El regreso a clases cada vez se encuentra más próximo y el abandono persiste en diversos planteles… https://t.co/XDE6Gbo5Y5']\n",
            "['Pau', datetime.datetime(2021, 5, 21, 0, 49, 32), '¿Estás de acuerdo con el regreso a clases presenciales en CDMX a partir del 7 de junio?']\n",
            "['Sociolopodus Antropoide', datetime.datetime(2021, 5, 21, 0, 49, 7), '#RegresoAClasesEsHomicidio\\nLOS ANTORCHISTAS AL SERVICIO DEL PRIAN. SALEN A MANIFESTARSE ATRAVEZ DE SUS \"\"ORGANIZACI… https://t.co/kWsbm6fOiL']\n",
            "['Vanguardia', datetime.datetime(2021, 5, 21, 0, 49, 1), 'Aprueban regreso a clases presenciales en prepas y universidades de Nuevo León https://t.co/0eJWCYAmfQ']\n",
            "['Claudia', datetime.datetime(2021, 5, 21, 0, 48, 28), '@Claudiashein @SEP_mx Supongo que cuando dice que las escuelas estarán listas para el regreso a clases ,se refiere… https://t.co/ng3nJFXZnf']\n",
            "['InfoRed360', datetime.datetime(2021, 5, 21, 0, 48, 25), 'Chiapas participa en reunión con la Federación para dar seguimiento a vacunación y regreso a clases… https://t.co/piVyyTLSdi']\n",
            "['Lu', datetime.datetime(2021, 5, 21, 0, 48, 23), 'Así las cosas con la 4a 😤https://t.co/pEHDwv74rd']\n",
            "['Lic. Paty Moctezuma', datetime.datetime(2021, 5, 21, 0, 48, 22), '@HEstadodeMex @alfredodelmazo Yo opino que el regreso a clases sea en agosto!!! a muchos niños ya no les queda el u… https://t.co/IWwuijXSmB']\n",
            "['Omar Pineda Luna ℹ️', datetime.datetime(2021, 5, 21, 0, 48, 5), 'Ustedes también sienten esa emoción-preocupación del regreso a la \"normalidad\" a clases, bares, viajes, hoteles, cines, etc. 😐']\n",
            "['Miriam', datetime.datetime(2021, 5, 21, 0, 47, 39), '@MxFaby Una vecina, maestra de privada, no esta activa en el ciclo escolar, la incluyeron en el padrón, porque le v… https://t.co/WMnUmLAfFx']\n",
            "['Adriana Argudín', datetime.datetime(2021, 5, 21, 0, 46, 10), 'Estudiantes marcharán en CDMX en contra del regreso a clases por riesgo de COVID https://t.co/vHG7cirxha']\n",
            "['Azteca Noticias', datetime.datetime(2021, 5, 21, 0, 46), 'Conoce a #Benebot, el robot que es capaz de detectar el #COVID19 y ayudará en el regreso a #ClasesPresenciales2021… https://t.co/bYrTye2E2G']\n",
            "['Karla Cecilia', datetime.datetime(2021, 5, 21, 0, 45, 57), 'Siento que mañana nos la van a dejar caer y anuncian el regreso a clases presenciales para junio. Me niego rotundam… https://t.co/G2FAMa1daA']\n",
            "['sandy👍🏻', datetime.datetime(2021, 5, 21, 0, 45, 50), 'Ay oigan si me da amsiedad esto del regreso a clases, o sea estuve 1 año conviviendo estrechamente con mi mamá y la… https://t.co/NaEiD8ByGg']\n",
            "['Diario Presente', datetime.datetime(2021, 5, 21, 0, 45), 'Será de forma escalonada ➡ el regreso a clases https://t.co/Wyc8nnqm5Y https://t.co/TJqsOsl1Kc']\n",
            "['Noticiero Altavoz', datetime.datetime(2021, 5, 21, 0, 44, 15), 'Sánchez Cordero asegura que regreso a clases presenciales no será\\xa0sencillo https://t.co/usYJh5jWp3']\n",
            "['Raquel Cuenca Garrido', datetime.datetime(2021, 5, 21, 0, 43, 52), '@cuauhtemocb10 @CONAGO_oficial @M_OlgaSCordero Excelente, ya se tienen que ver las estrategias que se deberán tomar… https://t.co/kI7ukjR1bE']\n",
            "['Teresa', datetime.datetime(2021, 5, 21, 0, 43, 16), '@chuycas Con todo respeto, pero se me hace un poco absurda la decisión de regreso a clases presenciales si están en… https://t.co/UuIcrcnQY0']\n",
            "['Thania Solis', datetime.datetime(2021, 5, 21, 0, 42, 43), 'Hoy tuvimos jornada larga junto con nuestro Dip @martinpadi, vecinas y amigos de @HuichapanSeguro, @SanD_Ocoyoacac… https://t.co/qV9cebc6W9']\n",
            "['Dant Rocksales', datetime.datetime(2021, 5, 21, 0, 42, 37), '@ElNuevoOficial No le veo caso, el regreso a clases, solo van a exponer a más gente, innecesariamente, si salen el 9 de julio. Ridiculos']\n",
            "['flor 🍹', datetime.datetime(2021, 5, 21, 0, 42, 26), '@FDucoulombier El regreso a clases es homofóbico, no vuelvan']\n",
            "['Ruben E. Hernandez', datetime.datetime(2021, 5, 21, 0, 42, 20), '@yaelicius Pues si, es homicidio,el gobierno da luz verde al regreso a clases DE FORMA VOLUNTARIA, quien quiere va… https://t.co/rpWMWBXewn']\n",
            "['Meganoticias Tuxpan', datetime.datetime(2021, 5, 21, 0, 42, 8), '#Tuxpan Lo que continúan abordando en las reuniones es la logística que estarán aplicando en las escuelas, sobre to… https://t.co/1FEwByWdB9']\n",
            "['Fernando Pérez Guajardo', datetime.datetime(2021, 5, 21, 0, 41, 42), '@roslemusmartin Qué extraño que acá en México, no se ha dado un fenómeno similar después de semana santa, sobre tod… https://t.co/hdGEK6IxWM']\n",
            "['OWEN', datetime.datetime(2021, 5, 21, 0, 41, 27), '@HEstadodeMex @alfredodelmazo yo opino, que el regreso a clases presenciales es muy urgente, es cierto, pero si que… https://t.co/UARJhFDhkI']\n",
            "['fercha》bonnie & clyde', datetime.datetime(2021, 5, 21, 0, 41, 5), 'leí regreso a clases es homofobico en vez de homicidio QUE ME PASA?']\n",
            "['paola reyes', datetime.datetime(2021, 5, 21, 0, 41, 4), 'Regreso a clases presenciales en Edomex podría ser en junio: Del Mazo https://t.co/DTm5hteJCq https://t.co/GMsrX5TlJG']\n",
            "['arturo', datetime.datetime(2021, 5, 21, 0, 40, 59), '@lopezobrador_ HOLA SR. PRESIDENTE SOLO PARA PEDIRLE RECONSIDERE EL REGRESO A CLASES, HASTA QUE NO ESTE VACUNADA LA… https://t.co/HHcpP0wxdm']\n",
            "['lux', datetime.datetime(2021, 5, 21, 0, 40, 50), 'me acordé q ya regreso a clases bye odio todo extiendan las vacaciones pls\\n\\n#BBMAsTopSocial @BTS_twt']\n",
            "['Almomento Mx', datetime.datetime(2021, 5, 21, 0, 40, 3), 'El gobernador de Nuevo León, Jaime Rodríguez, anunció que el regreso a clases presenciales en el estado se dará a p… https://t.co/WtnRo5boXs']\n",
            "['Diario Contrapeso Ciudadano', datetime.datetime(2021, 5, 21, 0, 40), 'Regreso a clases presenciales es un homicidio: Advierte la Federación de Estudiantes \\n¿Ustedes permitirán que sus h… https://t.co/5OkOodnjy8']\n",
            "['Diana Montoya', datetime.datetime(2021, 5, 21, 0, 38, 32), '@AmorporMxico4 @GlodeJo07 @beltrandelrio @CarlosLoret @carlosalazraki @kenialopezr @Keniagascon @MarkoCortes… https://t.co/cA220S10eM']\n",
            "['Rosario Ortega Serrano', datetime.datetime(2021, 5, 21, 0, 37, 13), '@cuauhtemocb10 @CONAGO_oficial @M_OlgaSCordero Estas noticias quere decir que Morelos va muy bien en la vacunación,… https://t.co/hSaIjnWjqR']\n",
            "['ElPortaldeMonterrey', datetime.datetime(2021, 5, 21, 0, 36, 48), 'Gobierno y universidades acordaron el regreso a las aulas de un 30 por ciento del alumnado de forma gradual y volun… https://t.co/2NwAJawYW6']\n",
            "['Paucheese 🧀', datetime.datetime(2021, 5, 21, 0, 36, 41), 'Está más forzado el regreso a clases de la UdeG el 1 de Junio que la relación que tenía yo con mi ex luego de haber terminado 78 veces']\n",
            "['La Razón de México', datetime.datetime(2021, 5, 21, 0, 36, 37), '#QuéTeParece | Estudiantes marcharán en la CDMX como protesta al regreso a clases presenciales… https://t.co/Gz3wvb4wCZ']\n",
            "['Jose Matute', datetime.datetime(2021, 5, 21, 0, 36, 18), 'Oiga doña Claudia @Claudiashein \\n¿ Y todas las escuelas ya tienen medidor CO2 y filtración de aire  en los salones… https://t.co/qMm6wYXLQM']\n",
            "['88.9 Noticias', datetime.datetime(2021, 5, 21, 0, 36, 5), 'La jefa de @GobCDMX , @Claudiashein, informó que durante el fin de semana seguirán los trabajos de rehabilitación e… https://t.co/ZZ6xyYAm7h']\n",
            "['@diario24horas', datetime.datetime(2021, 5, 21, 0, 35), 'En la reunión de la @CONAGO_oficial, se analizó el regreso a clases presenciales y las medidas sanitarias para la j… https://t.co/6d2i33rfp0']\n",
            "['Politólogo sin tesis', datetime.datetime(2021, 5, 21, 0, 33, 26), 'Puta junta-curso de regreso a clases seguro, ya me puso de malas, triste y quién sabe cómo. Me voy a salir a correr 10 km, bye']\n",
            "['EXPEDIENTE ULTRA', datetime.datetime(2021, 5, 21, 0, 33), 'EXPERIMENTAN SIN RESPONSABILIDAD REGRESO A CLASES https://t.co/XkfnDia0h1 a través de @IndicePolitico \\n• Experiment… https://t.co/UsUDbZMF5A']\n",
            "['angelica garcia', datetime.datetime(2021, 5, 21, 0, 32, 46), '@SSalud_mx @SEP_mx @GobiernoMX : Regreso a clases sí, pero toda la población vacunada - ¡Firma la petición!… https://t.co/RAHwkFxkkt']\n",
            "['RickDjMx', datetime.datetime(2021, 5, 21, 0, 32, 26), 'Además, existe alto riesgo de contagio 😷 por falta de vacunas 💉 \\n\\n#Especial | 🚨 *Regreso a clases un día después de… https://t.co/y6QVkFWItg']\n",
            "['Criztal Mora  Ψ', datetime.datetime(2021, 5, 21, 0, 31, 46), 'Como maestra me preguntan sobre el regreso a clases. Solo dire su tienen duda de mandar a su hijos en junio NO LO H… https://t.co/INmmju90pb']\n",
            "['Estudiosa sí, iletrada no.', datetime.datetime(2021, 5, 21, 0, 31, 45), '@delfinagomez Quiero compartir mi preocupación respecto al regreso a clases presenciales en escuelas que NO cuentan… https://t.co/RWzmbBpd5L']\n",
            "['Diosa griega', datetime.datetime(2021, 5, 21, 0, 31, 25), '¿Ustedes qué opinan del regreso a clases? \\n #RegresoAClasesEsHomicidio']\n",
            "['Al Calor Político', datetime.datetime(2021, 5, 21, 0, 30, 46), '#NoticiasAlCalor 🔥| Regreso a clases, hasta nuevo ciclo, deciden padres de niños de preescolar, en #Tihuatlán. Toma… https://t.co/iktDqpbSBw']\n",
            "['Movimiento Antorchista Nacional', datetime.datetime(2021, 5, 21, 0, 30, 18), '#CDMX Regreso a clases sin vacunación generalizada es homicidio: FNERRR | Antorcha Campesina\\xa0https://t.co/hBhJqWwoyW https://t.co/jEnV0aUSCG']\n",
            "['Mildred Gutiérrez Valencia', datetime.datetime(2021, 5, 21, 0, 30, 15), '@JaimeRdzNL Que pasa con el nivel básico ? Los papás en su mayoría no compartimos que regreso a clases aún, al meno… https://t.co/Ikg6lHfTvj']\n",
            "['Betty Hernández Concejal', datetime.datetime(2021, 5, 21, 0, 30, 9), 'Conoce el\\resquema para el regreso\\ra clases, a partir del 7 de junio.\\n\\nRecuerda seguir las\\rmedidas sanitarias. ¡El\\ru… https://t.co/Wy6wbn2erk']\n",
            "['Marcos Pérez Esquer', datetime.datetime(2021, 5, 21, 0, 30, 5), 'El intempestivo anuncio de regreso a clases responde más al calendario político-electoral, que al interés superior de la infancia.']\n",
            "['ContraRéplica', datetime.datetime(2021, 5, 21, 0, 30), '🦠 La Confederación Nacional de Escuelas Particulares, rechazó el regreso a clases presenciales anunciado por el Gob… https://t.co/6PL3YyekK5']\n",
            "['TV Azteca Sinaloa', datetime.datetime(2021, 5, 21, 0, 30), 'En la CDMX, las escuelas que estén en condiciones podrán reabrir sus puertas después del 7 de junio si así lo desea… https://t.co/itTbRTAgXD']\n",
            "['El Sol de Cuautla', datetime.datetime(2021, 5, 21, 0, 30), '#Entérate l Prepárate para el regreso a clases,estas serán las nuevas medidas  😷\\nhttps://t.co/puWhmmR5jL']\n",
            "['Dalia Empower', datetime.datetime(2021, 5, 21, 0, 30), '¿Enviar o no a sus hijos a #ClasesPresenciales  ?\\n\\n#Mamás trabajadoras entre el temor al #COVID19 y la fatiga \\n\\nPla… https://t.co/CNcu5FHBsb']\n",
            "['El Sol de Cuernavaca', datetime.datetime(2021, 5, 21, 0, 30), '#Entérate l Prepárate para el regreso a clases,estas serán las nuevas medidas  😷\\nhttps://t.co/blc7vAd3UI']\n",
            "['Pensamientos', datetime.datetime(2021, 5, 21, 0, 30), '¡Regreso a clases! 🎒 |  ¿Cuántas veces se ha postergado el regreso a clases presenciales en Venezuela? \\n\\nhttps://t.co/Olva1we9IM']\n",
            "['Noticias Guerrero Hoy', datetime.datetime(2021, 5, 21, 0, 29, 55), '📚#Nacional #RegresoAClases Estas son las medidas que se tendrán que seguir para el regreso a clases \\nhttps://t.co/zP4zodkGbZ']\n",
            "['La Crónica de Hoy', datetime.datetime(2021, 5, 21, 0, 29, 23), 'No hay condiciones para el regreso a clases, acusa la Federación Nacional de Estudiantes Revolucionarios “Rafael Ra… https://t.co/e0GDnl10rf']\n",
            "['FERNANDA ESPINOSA', datetime.datetime(2021, 5, 21, 0, 28, 24), '@DonVocero ¿Regreso a clases con semaforo rojo?']\n",
            "['YOVVANNA_!!', datetime.datetime(2021, 5, 21, 0, 28, 14), '@SSalud_mx @SEP_mx @GobiernoMX : Regreso a clases sí, pero toda la población vacunada - ¡Firma la petición!… https://t.co/i3A1LsdVNm']\n",
            "['ᴺᵃʸᵉˡⁱ', datetime.datetime(2021, 5, 21, 0, 28, 10), 'Eu pero si regreso a clases yo no tengo mochila/ bolsa o lo que sea para guardar mis cosas porque no se en que part… https://t.co/pdw9DcAity']\n",
            "['Hasell_m', datetime.datetime(2021, 5, 21, 0, 27, 58), 'los fenerianos exponemos nuestro desacuerdo al regreso a clases presenciales #RegresoAClasesEsHomicidio\\n@SEP_mx\\n@SSalud_mx\\n@lopezobrador_']\n",
            "['La_Coneja_Pandeja_uwu', datetime.datetime(2021, 5, 21, 0, 26, 15), '@TeacherJesusFJ +año más es algo que acabaría con todo, ni siquiera veo mucho movimiento en algo y que conste que h… https://t.co/zdXeeNnmjF']\n",
            "['POSTAmx', datetime.datetime(2021, 5, 21, 0, 25, 42), 'Regreso a #ClasesPresenciales  en #NuevoLeón \\n\\nSerá quien pueda o quién desee acudir a las clases de manera presenc… https://t.co/2aM9meaOQ3']\n",
            "['El P1nche her', datetime.datetime(2021, 5, 21, 0, 25, 27), '@LauraMex ¿Cuál es la prisa de que los estudiantes regresen a clases cuando faltaría menos de un mes de la consecuc… https://t.co/BJOBkKFDSY']\n",
            "['Enrique.', datetime.datetime(2021, 5, 21, 0, 25, 26), 'Apoco no se daban cuenta... Que ilusos... Regreso a clases es con fines electorales: CNTE se rebela vs AMLO… https://t.co/YHYjnHMcoA']\n",
            "['𝐄𝐋 𝐈𝐍𝐅𝐎𝐑𝐌𝐀𝐃𝐎𝐑', datetime.datetime(2021, 5, 21, 0, 25, 2), 'Algunas escuelas del estado de Querétaro plantean su regreso a clases presenciales con el apoyo de un robot capaz d… https://t.co/v72EGKAd0K']\n",
            "['Stormygato83', datetime.datetime(2021, 5, 21, 0, 24, 40), 'Profe, no me quiero rapar para el regreso a clases']\n",
            "['ABCNoticias.mx', datetime.datetime(2021, 5, 21, 0, 24, 35), 'Ampliarán transporte público en Nuevo León\\n\\nEl gobernador Jaime Rodríguez indicó que buscará ampliar el servicio de… https://t.co/O6191lER7R']\n",
            "['diariokapitaldigital', datetime.datetime(2021, 5, 21, 0, 24, 2), 'Chiapas participa en reunión con la Federación para dar seguimiento a vacunación y regreso a\\xa0clases https://t.co/kU97w4msnM']\n",
            "['@telediario', datetime.datetime(2021, 5, 21, 0, 24, 2), '👥 Ante el regreso a clases en la #CDMX, los comerciantes aledaños a las escuelas se muestran optimistas, pues asegu… https://t.co/NXEKTls68v']\n",
            "['Omar C.', datetime.datetime(2021, 5, 21, 0, 22, 22), '@ScorpioGeneral_ Todo estúpido el general... sal a los parques públicos para que veas como están bien idiotas los q… https://t.co/7bzdOWlCFl']\n",
            "['Mary Mtz #FreePalestina', datetime.datetime(2021, 5, 21, 0, 22, 17), 'Pinchw Bronco espero que ya estés negociando con los transportistas para que ya pongan más camiones sino se va a ha… https://t.co/jmBHgFnV9Z']\n",
            "['Elizabeth Ascencio', datetime.datetime(2021, 5, 21, 0, 22, 9), 'Los que están en contra del regreso a clases son los mismos que se la pasan en plazas, tianguis, mercados, gimnasio… https://t.co/WYTZLqi2WF']\n",
            "['Claudia Villarroel', datetime.datetime(2021, 5, 21, 0, 21, 42), 'Si supieran el reverendo desmadre que va a ser su tonto y absurdo escalonado regreso a clases cuando ni agua hay...… https://t.co/RRWp9b1TBt']\n",
            "['sana 11°❅⁵', datetime.datetime(2021, 5, 21, 0, 21, 13), 'No somos flojos, no es que no queramos estudiar, solo queremos un regreso a clases seguro, cosa que en primer lugar… https://t.co/mjMMP7o0O5']\n",
            "['Guillermo Lazo', datetime.datetime(2021, 5, 21, 0, 20, 45), '@Adela_Micha Con estas cifras , y quieren el regreso a clases el 07 de junio , no me cuadra']\n",
            "['Pedro Torres', datetime.datetime(2021, 5, 21, 0, 20, 40), 'Ahora entiendo la encuestas de las escuelas particulares, sobre el regreso a clases semipresenciales.']\n",
            "['ricardo', datetime.datetime(2021, 5, 21, 0, 20, 9), 'Agradecido con el de arriba que después de este semestre ya no regreso a clases 🙌🏻 https://t.co/8g5uya3T1i']\n",
            "['LA PRENSA', datetime.datetime(2021, 5, 21, 0, 20), '#Metrópoli 📢 🎒 Piden sean llamados en el dialogo con autoridades para acordar el regreso presencial a las aulas, no… https://t.co/v0woM9UjHt']\n",
            "['sana 11°❅⁵', datetime.datetime(2021, 5, 21, 0, 19, 43), 'Parece que López Obrador no sabe que su país ocupa los primeros lugares de obesidad infantil, causando problemas re… https://t.co/IbEOXQCDYf']\n",
            "['merme quiin', datetime.datetime(2021, 5, 21, 0, 19, 30), 'Listos para el regreso a clases ?? \\n\\n#LatinusReforma']\n",
            "['Juan Najera', datetime.datetime(2021, 5, 21, 0, 19, 21), '@CarlosLoret @azapatah @WRADIOMexico Pues como lo dijo la srita analista, creo que sí no hay un plan de nada para q… https://t.co/0foC7Yyiy3']\n",
            "['Pedro Aguilar Díaz', datetime.datetime(2021, 5, 21, 0, 19, 5), '@HLGatell Si, pero regreso a clases un día después de elecciones, no. Ya ves que la Salud puede emplearse políticamente?']\n",
            "['Francisco R', datetime.datetime(2021, 5, 21, 0, 18, 43), 'Antes de un regreso a clases presenciales, MÍNIMO un 70% de la población debe estar vacunada contra el COVID💉🧪,¿Cóm… https://t.co/bbJwirKjcy']\n",
            "['Dragón', datetime.datetime(2021, 5, 21, 0, 18, 8), 'Robot detecta Covid-19 será utilizado en distintos estados para el regreso a clases https://t.co/ePtGsfhqWO']\n",
            "['♡ 𝓐𝓫𝓲 𝓗𝓸𝓵𝓶𝓮𝓼 ♡', datetime.datetime(2021, 5, 21, 0, 17, 51), 'Por qué no los veo opinando de la vacuna de los maestros y del regreso a clases presenciales?']\n",
            "['hojaderutamx', datetime.datetime(2021, 5, 21, 0, 16, 41), 'Anuncian regreso a clases presenciales de prepas y universidades el 31 de mayo @nuevoleon @JaimeRdzNL… https://t.co/I8cEdz1g8q']\n",
            "['Foro_TV', datetime.datetime(2021, 5, 21, 0, 16, 40), 'Este es Benebot, el robot que detectará el COVID-19 en el regreso a clases presenciales en México… https://t.co/FR95dag8Qh']\n",
            "['KiT⚡️', datetime.datetime(2021, 5, 21, 0, 16, 31), 'Como que regreso a clases ? Mi uniforme ya está en la basura']\n",
            "['Socorro', datetime.datetime(2021, 5, 21, 0, 16, 20), 'Vacunas alos maestros para regreso a clases próximamente el 7 de junio https://t.co/6KPFHY5QPb']\n",
            "['La_Coneja_Pandeja_uwu', datetime.datetime(2021, 5, 21, 0, 15, 56), 'sin cubrebocas como si nada a allí si no ni dicen nada a pero hay regreso a clases presenciales allí si hacen bulla… https://t.co/jLv0yPfVZD']\n",
            "['Fernando Espinoza', datetime.datetime(2021, 5, 21, 0, 15, 43), '@GARCIPAVON @HLGatell @Claudiashein Si los papás no tienen conciencia harán del regreso a clases una ola de muerte… https://t.co/BMaVnHjpRh']\n",
            "['Mario Veraz', datetime.datetime(2021, 5, 21, 0, 15, 31), 'Muy de acuerdo todo lo quieren llevar al terreno político cuando se había visto que el regreso a clases sea por ord… https://t.co/W8VpPdIk9S']\n",
            "['bbmundo', datetime.datetime(2021, 5, 21, 0, 15, 2), '¿Ya revisaron que las escuelas de sus hijos cumplan con las 9 INTERVENCIONES? https://t.co/QQ5UQqc7Vn']\n",
            "['Láser Informativo', datetime.datetime(2021, 5, 21, 0, 14, 51), 'Garantiza Estrategia Nacional para el Regreso a Clases seguridad de las comunidades escolares del país… https://t.co/Kp6Xt9XcyG']\n",
            "['Edith Cedill', datetime.datetime(2021, 5, 21, 0, 14, 51), 'Estudiantes marcharán en CDMX en contra del regreso a clases por riesgo de COVID https://t.co/WD1bRinMTm']\n",
            "['Francisco R', datetime.datetime(2021, 5, 21, 0, 14, 41), '¿Pero qué onda con eso del regreso a clases presenciales? ¡¡Si ni siquiera han acabado de vacunar a los adultos y l… https://t.co/M7J8EpEBJa']\n",
            "['Noticieros Televisa', datetime.datetime(2021, 5, 21, 0, 13, 58), 'Benebot es capaz de detectar el COVID-19 y otras enfermedades, además de que está pensado para fines educativos\\nhttps://t.co/7cgy4Rx49Y']\n",
            "['Alberto JImenez', datetime.datetime(2021, 5, 21, 0, 13, 46), '@hectormcb @DeniseMaerker Corrección: En varias entidades federativas ya está anunciado el regreso a clases a principio de Junio....']\n",
            "['Brandon Filth', datetime.datetime(2021, 5, 21, 0, 13, 10), 'TODOS LOS QUE SE QUEJAN DE EL REGRESO A CLASES POR MIEDO AL COVID-19 SON LOS MISMOS QUE ANDAN SIN CUBREBOCAS EN LA… https://t.co/AFAOTvZYv3']\n",
            "['Iceman', datetime.datetime(2021, 5, 21, 0, 12, 15), 'Así mi regreso a clases https://t.co/fiLPdXfrkS']\n",
            "['Mary Mtz #FreePalestina', datetime.datetime(2021, 5, 21, 0, 11, 29), 'No puede ser posible que el Bronco esté diciendo que tomó la decisión del regreso o no a clases basado en una publi… https://t.co/mvX29mDMme']\n",
            "['Camila Luna', datetime.datetime(2021, 5, 21, 0, 11, 17), 'alguien sabe como bajar de peso para el próximo regreso a clases #LatinusReforma']\n",
            "['Yo Mero', datetime.datetime(2021, 5, 21, 0, 10, 18), '@Mx1Blanca @M2Cyndy ¿Si el regreso a clases presenciales es voluntario, que tanto les importa, realmente, que los n… https://t.co/sGWsOm9iro']\n",
            "['José Francesco Chávez', datetime.datetime(2021, 5, 21, 0, 10, 14), '@Claudiashein @SEP_mx Señora sigue en su terquedad de un regreso a clases peligroso, por favor evite una tragedia q… https://t.co/infPxTzsZM']\n",
            "['La Razón de México', datetime.datetime(2021, 5, 21, 0, 10), 'CNEP pide regreso a clases presenciales escalonado y a partir de agosto https://t.co/7kGGHp7mg5 https://t.co/axBLWIvfuf']\n",
            "['Capital México', datetime.datetime(2021, 5, 21, 0, 10), 'A semanas de que reanuden clases presenciales en CDMX, la Unión Nacional de Padres de Familia exigió a las autorida… https://t.co/kVU8ce5xNU']\n",
            "['El Heraldo de México', datetime.datetime(2021, 5, 21, 0, 10), 'López Obrador señaló que en junio los estudiantes tendrían un regreso a clases de manera presencial. https://t.co/NRElLVjnto']\n",
            "['Chuchito Lomas', datetime.datetime(2021, 5, 21, 0, 9, 51), '@Excelsior @YuririaSierra @ImagenTVMex Cómo está eso de que no quieren clases presenciales y se van a reunir para u… https://t.co/u4YjCgXR1B']\n",
            "['cami', datetime.datetime(2021, 5, 21, 0, 9, 47), 'Que hueva el regreso a clases, aun no consigo mi glow up\\n#LatinusReforma']\n",
            "['Láser Informativo', datetime.datetime(2021, 5, 21, 0, 9, 39), 'El robot Benebot cuida a alumnos de Querétaro en este regreso a clases\\nhttps://t.co/L30gd3Ueei https://t.co/MrriCTMLjh']\n",
            "['El P1nche her', datetime.datetime(2021, 5, 21, 0, 9, 36), 'Yo sigo insistiendo que el regreso a clases lo planeó con el culo @Claudiashein y @Luis__Humberto: El semáforo epid… https://t.co/ALvPVI4dLq']\n",
            "['PROMAN', datetime.datetime(2021, 5, 21, 0, 8, 49), '@irmoralesl @alejflores6013 No al regreso a clases sin vacunas, por otra parte la vacunación del sector médico no d… https://t.co/F2Tgd87DTz']\n",
            "['Noreste', datetime.datetime(2021, 5, 21, 0, 8, 20), '#CDMX || En la #reuniónvirtual que va a celebrar hoy la #ConferenciaNacionaldeGobernadores se va a atender el tema… https://t.co/jDMYPDR32n']\n",
            "['Periódico Momento', datetime.datetime(2021, 5, 21, 0, 6, 59), '#SLP|| #Clases \\n\\nOscar García Miranda, representante estatal de la Federación Nacional de Estudiantes Revolucionari… https://t.co/9SvwCS4wXc']\n",
            "['Maria Yslas', datetime.datetime(2021, 5, 21, 0, 6, 3), '@Quetzal0518 A qué te suena que el “regreso a clases” será justamente al día siguiente de las elecciones?? Ya está… https://t.co/XlS51J8jEb']\n",
            "['RadioFormulaMonterrey.com', datetime.datetime(2021, 5, 21, 0, 6), '#AbriendolaConversación\\nEl regreso a clases seria a partir del próximo lunes 31 de mayo\\nhttps://t.co/NKxZNri4Ue\\nVía: @CESAR_ROJAS6']\n",
            "['Subrayado.mx', datetime.datetime(2021, 5, 21, 0, 6), '📣📰LLEGARON LAS #SubNews vía https://t.co/lObhJS9r9N JUEVES 20 DE MAYO \\n❌👀Mala semana para #CabezaDeVaca \\n🏫🎒😷Regreso… https://t.co/nr0jk0AyuD']\n",
            "['Guadalupe Velasco', datetime.datetime(2021, 5, 21, 0, 5, 55), 'Lo del regreso a clases también es electorero, para que la@gente se crea que vamos muy bien en la vacunación. Es un… https://t.co/lcx4igIKZd']\n",
            "['Edu Ramone', datetime.datetime(2021, 5, 21, 0, 5, 53), 'Cuando te dice que el regreso a clases va a contar con todas las medidas\\n\"Las medidas\" https://t.co/Ect0rF5O2P']\n",
            "['Visor Zmg', datetime.datetime(2021, 5, 21, 0, 5, 16), '@omar_comunica @udg_oficial @CANAL44TV Que estupidez, de \"urgir\" el regreso a clases debe ser al inicio del próximo… https://t.co/TMCaBd0TD3']\n",
            "['Stand Up', datetime.datetime(2021, 5, 21, 0, 3, 47), '@avieu @lopezobrador_ Que PCM. 100,000 millones que podían aplicarse en cubrir necesidades de educacion, empezando… https://t.co/j4nThdFGhX']\n",
            "['Televisa Puebla', datetime.datetime(2021, 5, 21, 0, 1), '🗓️ Cada vez falta menos para el eventual regreso a las clases presenciales y las condiciones de las escuelas no son… https://t.co/guv2KEQ0Xi']\n",
            "['HolaIngeniera⚙️', datetime.datetime(2021, 5, 21, 0, 0, 4), '\"El regreso a clases sera voluntario\"\\n¿Tan voluntario como comprar los lápices de la cruz roja?']\n",
            "['NVnoticias', datetime.datetime(2021, 5, 21, 0, 0), '#Estado \\nAlgunos establecimientos dedicados a este giro trataron de vender cubrebocas y líquidos sanitizantes, pero… https://t.co/4eeaGfm3Pg']\n",
            "['hojaderutamx', datetime.datetime(2021, 5, 20, 23, 59, 42), 'Autoridades federales y estatales trabajan en vacunación y aplicación de medidas sanitarias para regreso a clases y… https://t.co/idaLdH4TPD']\n",
            "['Eduardo', datetime.datetime(2021, 5, 20, 23, 59, 38), '@Isaac_Torrez @lopezobrador_ Así es, pero no crees que sea un riesgo de salud con la población que ustedes manejan,… https://t.co/CBk2VrjtK8']\n",
            "['Paty Cas🇲🇽🐍', datetime.datetime(2021, 5, 20, 23, 59, 35), '@mariocampos @lopezobrador_ Y todos sus funcionarios igual.\\n\\n-Marcelo: Anunciando que ya no se necesita visa para t… https://t.co/qU2aDfGFfc']\n",
            "['fernando palafox', datetime.datetime(2021, 5, 20, 23, 58, 50), '@Claudiashein @SEP_mx Que tal un programa de tequio en escombros?\\nO con ofrecer trabajo años deudos de las víctimas… https://t.co/OKw74NJhc8']\n",
            "['Cintalapanecos.com', datetime.datetime(2021, 5, 20, 23, 58, 9), 'Chiapas participa en reunión con la Federación para dar seguimiento a vacunación y regreso a clases\\n• Integrantes d… https://t.co/Wc8dC20MgI']\n",
            "['Dcool_mx', datetime.datetime(2021, 5, 20, 23, 58, 7), '@laredcincoradio @ClubPueblaMX @ClubSantos Pero que tal....\\nSe ponen verdes x regreso a clases, pero van a fiestas,… https://t.co/NAwV56l1c9']\n",
            "['Minerva Multimedios', datetime.datetime(2021, 5, 20, 23, 57, 43), '#RegresoAClases | El gobernador de Jalisco informa los procesos del Programa de Rehabilitación de Escuelas Públicas… https://t.co/xU7drTTaQs']\n",
            "['Thomas Font', datetime.datetime(2021, 5, 20, 23, 57, 8), '@m_ebrard Mete el turbo mi estimado.\\n\\nA tu Jefe ya le urge el regreso a clases presenciales !']\n",
            "['Foro_TV', datetime.datetime(2021, 5, 20, 23, 56, 57), 'Nuevo León: Anuncian fecha de regreso a clases presenciales en preparatorias y universidades https://t.co/CEA5jz4kmh https://t.co/fSmIDaVgQn']\n",
            "['Guason Sr. \\uf8ff', datetime.datetime(2021, 5, 20, 23, 56, 39), 'Honestamente no me emociona el regreso a clases, mas bien me desagrada un poco por razones que a nadie le interesa… https://t.co/VtCuGetsCU']\n",
            "['foropoliticodig', datetime.datetime(2021, 5, 20, 23, 56, 23), '#ClasesPresenciales2021 | Al menos 3 mil escuelas de todos los niveles educativos serán intervenidas para que se en… https://t.co/JfaVxaAJEY']\n",
            "['ADS', datetime.datetime(2021, 5, 20, 23, 55, 9), 'Trabajan Autoridades federales y estatales en vacunación y aplicación de medidas sanitarias para el regreso a clase… https://t.co/svP55JOLvk']\n",
            "['Jared pero no Borgetti', datetime.datetime(2021, 5, 20, 23, 54, 41), 'Anuncian regreso a clases y mis papás ya están vacunados, ay cómo que de repente se me quitó la depresión 😳😳😳']\n",
            "['Cyndy M. 👊🏼🎯', datetime.datetime(2021, 5, 20, 23, 54, 25), '@Mx1Blanca En Campeche han habido muchos niños contagiados por covid en el regreso a clases. Cuál es la prisa, más muertos?']\n",
            "['Her', datetime.datetime(2021, 5, 20, 23, 53, 46), 'Te puede el gobierno decir regreso a clases esta en los papas de mandarlos a la verga directo el Dr Muerte es un pe… https://t.co/inE1T2bLtR']\n",
            "['CNC NOTICIAS', datetime.datetime(2021, 5, 20, 23, 53, 7), '#OjoAlDato\\n\\n\"Es momento de volver al colegio. A partir de hoy, los niños, niñas y jóvenes regresan a clases presenc… https://t.co/kPEqFecvbQ']\n",
            "['Kalah System México | Israeli Combat System', datetime.datetime(2021, 5, 20, 23, 52, 57), '@De10mx @El_Universal_Mx Regreso a clases sin vacunar a los niños... Que inteligentes 🤔']\n",
            "['Conrado Cadenas', datetime.datetime(2021, 5, 20, 23, 51, 51), '@lalacrumbera El regreso a clases presenciales implica mostrar que vamos avanzando en el combate a la pandemia, que… https://t.co/p7iEQPEAYn']\n",
            "['Ross⁷\\U0001f9c8', datetime.datetime(2021, 5, 20, 23, 51, 51), 'OMFG EL LUNES REGRESO A MIS CLASES DE BAILE AND LOWKEY IM EXCITED PORQUE NO HE BAILADO COMO EN UN AÑO AAAAAAAH']\n",
            "['Adriana Calao', datetime.datetime(2021, 5, 20, 23, 50, 1), '#Tuxpan Lo que continúan abordando en las reuniones es la logística que estarán aplicando en las escuelas, sobre to… https://t.co/MX5BXSyQNl']\n",
            "['Reporte Sn Cristóbal', datetime.datetime(2021, 5, 20, 23, 49, 1), 'Chiapas participa en reunión con la Federación para dar seguimiento a vacunación y regreso a clases.\\n\\n•Integrantes… https://t.co/s8qBMP9ISW']\n",
            "['Buenas Escuelas', datetime.datetime(2021, 5, 20, 23, 48, 12), 'Algunos centros educativos del central estado mexicano de Querétaro plantean su regreso a clases con el apoyo de Be… https://t.co/HPbB7fOMNA']\n",
            "['El Referente Mx', datetime.datetime(2021, 5, 20, 23, 48, 9), 'Recibirán atención y mantenimiento más 3 mil escuelas antes del regreso a clases, informó @InfraGobPue \\n\\n https://t.co/1MCnnRLjyb']\n",
            "['Revista 3er Sector', datetime.datetime(2021, 5, 20, 23, 47, 49), '3er Sector - Acuerdan universidades regreso gradual a clases presenciales https://t.co/pcWSkOogCP #Salud #Educación… https://t.co/ItoaXcPYa5']\n",
            "['Miguel Vázquez', datetime.datetime(2021, 5, 20, 23, 47, 41), '¿Cuál es la prisa del @GobiernoMX y la @SEP_mx para el regreso a clases en aulas? Aquí hay algo totalmente político… https://t.co/m2EGd0dDV2']\n",
            "['Voz Alta Noticias', datetime.datetime(2021, 5, 20, 23, 46, 19), 'El Gobierno de México planteó este martes que el regreso a clases presenciales en todo el país podría darse a parti… https://t.co/4ouipC7jdA']\n",
            "['Ferloredl', datetime.datetime(2021, 5, 20, 23, 46, 15), '#RegresoAClasesEsHomicidio\\nUrge que se vacune a los estudiantes.\\nLa FNERRR prepara marcha para el 24 de mayo ¡Exigi… https://t.co/V9j3AM0Abw']\n",
            "['Op_Chivas', datetime.datetime(2021, 5, 20, 23, 46, 1), '@lopezobrador_ @Claudiashein  en verdad son tan pendejos? Cómo para planear un regreso a clases el 7 de junio a 1 m… https://t.co/cP0tzCIW6B']\n",
            "['Everardo González', datetime.datetime(2021, 5, 20, 23, 45, 41), '#SEGE trabaja en regreso a clases presenciales en\\xa0#SLP https://t.co/3Dr4RL26BO']\n",
            "['Expreso de Toluca', datetime.datetime(2021, 5, 20, 23, 45, 23), 'Vacunación de docentes contra #COVID-19 posibilita el regreso a clases\\xa0presenciales https://t.co/4o94BgbiP6']\n",
            "['Animal Político', datetime.datetime(2021, 5, 20, 23, 45, 1), 'En el #Edomex se regresará a clases a mediados de junio en caso de que continúe la tendencia a la baja en el número… https://t.co/SHxeQQwrdM']\n",
            "['Voz Alta Noticias', datetime.datetime(2021, 5, 20, 23, 44, 58), 'El dirigente del Sindicato Nacional se Trabajadores de la Educación (SNTE), Alfonso Cepeda Salas, celebró que se es… https://t.co/y89iGBzk5U']\n",
            "['NDL Noticias', datetime.datetime(2021, 5, 20, 23, 44, 52), 'Vacunación de docentes contra #COVID-19 posibilita el regreso a clases\\xa0presenciales https://t.co/TvpvSbJySK']\n",
            "['diana', datetime.datetime(2021, 5, 20, 23, 44, 46), 'para el regreso a clases 🙏🏼🙏🏼🙏🏼 https://t.co/s2Gkbyj5Hb']\n",
            "['Noticieros Televisa', datetime.datetime(2021, 5, 20, 23, 44, 9), 'Los estudiantes de preparatoria y universidad en Nuevo León podrán volver a las aulas, así lo anunció su gobernador \\nhttps://t.co/v10CnOndyU']\n",
            "['EveryWebLive ©', datetime.datetime(2021, 5, 20, 23, 43, 41), 'Escuelas particulares en CDMX rechazan regreso a clases presenciales en junio - Noticieros Televisa https://t.co/bfotZudW2k']\n",
            "['Eduardo', datetime.datetime(2021, 5, 20, 23, 42, 53), 'Saludos mi estimado @Isaac_Torrez.\\n¿Cómo ves lo del regreso a clases declarando por el presidente @lopezobrador_?\\n\\n¿Qué opinas de ello?']\n",
            "['Cosme Vázquez', datetime.datetime(2021, 5, 20, 23, 41, 44), 'Chiapas participa en reunión con la Federación para dar seguimiento a vacunación y regreso a clases https://t.co/cDUphmfJ7M']\n",
            "['The Chestnut Post', datetime.datetime(2021, 5, 20, 23, 40, 46), 'Aún no hay fecha para el regreso a clases presenciales en primarias y secundarias en Nuevo\\xa0León https://t.co/fz637F5GsH']\n",
            "['La Saga', datetime.datetime(2021, 5, 20, 23, 40, 34), 'El Gobierno de México continúa con el trabajo coordinado para implementar medidas sanitarias en el regreso a clases… https://t.co/823cnq6dOv']\n",
            "['Adela Micha', datetime.datetime(2021, 5, 20, 23, 40, 21), 'El Gobierno de México continúa con el trabajo coordinado para implementar medidas sanitarias en el regreso a clases… https://t.co/2bPeb19Tjd']\n",
            "['Noticias Oaxaca NVI', datetime.datetime(2021, 5, 20, 23, 40, 2), '#Educativas |Oaxaca, sin fecha para regreso a clases presenciales. Al menos cinco estados de la república se alista… https://t.co/VVzxiGxADq']\n",
            "['Así El Weso', datetime.datetime(2021, 5, 20, 23, 39, 46), '#AsíElWeso\\n\\n📻 Escuelas particulares de #CDMX rechazar regreso a clases en junio; piden terminar ciclo a distancia… https://t.co/N039WxaFxe']\n",
            "['Pie de Página', datetime.datetime(2021, 5, 20, 23, 39), 'La #CDMX será el sexto estado en volver a clases presenciales. Será a partir del 7 de junio. Sin embargo, las autor… https://t.co/o407MsC4oT']\n",
            "['Iván Louie', datetime.datetime(2021, 5, 20, 23, 38, 43), 'El plan Nacional de vacunacion sigue adelante, con un ritmo constante de vacunados, exhortó a la @BUAPoficial que e… https://t.co/cIcm8UXftP']\n",
            "['Daniel Guerra', datetime.datetime(2021, 5, 20, 23, 38, 29), 'Ya viene el regreso a clases de forma presencial e @irmolauro nos trae sus recomendaciones de @ateconquesoed con @anafvega en @MVSNoticias']\n",
            "['María Guadalupe Ruiz', datetime.datetime(2021, 5, 20, 23, 37, 41), '@lopezobrador_ Hola Inútil, como siempre tomando decisiones a lo pend... Por que el regreso a clases presenciales t… https://t.co/IJlf9Reh3T']\n",
            "['joha \\U0001f9c8 - RM 🌟', datetime.datetime(2021, 5, 20, 23, 37, 33), 'DIOS MI INSTITUCIÓN NO SE VA A REGIR SOBRE EL REGRESO A CLASES QUE PLANEAN EL PRÓXIMO MES, ESTOY QUE BRINCO DE LA FELICIDAD, AMO, AMO']\n",
            "['ULISES', datetime.datetime(2021, 5, 20, 23, 37, 30), 'De verdad nadie se da cuenta, el regreso a clases, mandaran a personal de las alcaldías con papás para que vean que… https://t.co/iJdQ8w1TFB']\n",
            "['Meganoticias IXT', datetime.datetime(2021, 5, 20, 23, 36, 29), '#Zihuatanejo | Se están diagnosticando las escuelas que serán utilizadas en el proceso electoral como sede de casil… https://t.co/RlF6I4QR20']\n",
            "['Chris Castillo', datetime.datetime(2021, 5, 20, 23, 36, 12), 'En caso de que se dé el regreso a clases el 7 de junio, ¿los seguros de vida de los colegios (privados), cubrirán c… https://t.co/2kvt2CUtes']\n",
            "['Diario Rompecabeza', datetime.datetime(2021, 5, 20, 23, 36, 9), 'Estudiantes advierten que Yucatán no estaría listo para un eventual regreso a las clases presenciales, como prevén… https://t.co/IiXEwrt41Q']\n",
            "['EL OCCIDENTAL', datetime.datetime(2021, 5, 20, 23, 33, 54), '#Importante | Conoce los detalles del #RegresoAClases presenciales de la UdeG 📚\\n\\nhttps://t.co/SHqp3a7O9C']\n",
            "['ema!\\U0001f9a9', datetime.datetime(2021, 5, 20, 23, 32, 46), 'como que regreso a clases si yo ando      trabajando en Honduras']\n"
          ],
          "name": "stdout"
        }
      ]
    },
    {
      "cell_type": "code",
      "metadata": {
        "id": "0Ly3s--gjRvV"
      },
      "source": [
        "df = pd.DataFrame({'name':twitter_users, 'time':tweet_time, 'tweet':tweet_string})"
      ],
      "execution_count": null,
      "outputs": []
    },
    {
      "cell_type": "code",
      "metadata": {
        "colab": {
          "base_uri": "https://localhost:8080/"
        },
        "id": "XnbDXBtUj2W8",
        "outputId": "0f9d2be9-2937-46e1-f53b-f26d72f4840c"
      },
      "source": [
        "df.shape"
      ],
      "execution_count": null,
      "outputs": [
        {
          "output_type": "execute_result",
          "data": {
            "text/plain": [
              "(275, 3)"
            ]
          },
          "metadata": {
            "tags": []
          },
          "execution_count": 9
        }
      ]
    },
    {
      "cell_type": "code",
      "metadata": {
        "colab": {
          "base_uri": "https://localhost:8080/",
          "height": 204
        },
        "id": "RIqRKf7Bj3jf",
        "outputId": "1863562e-1a4b-4728-aae0-d9a9688a6654"
      },
      "source": [
        "df.head()"
      ],
      "execution_count": null,
      "outputs": [
        {
          "output_type": "execute_result",
          "data": {
            "text/html": [
              "<div>\n",
              "<style scoped>\n",
              "    .dataframe tbody tr th:only-of-type {\n",
              "        vertical-align: middle;\n",
              "    }\n",
              "\n",
              "    .dataframe tbody tr th {\n",
              "        vertical-align: top;\n",
              "    }\n",
              "\n",
              "    .dataframe thead th {\n",
              "        text-align: right;\n",
              "    }\n",
              "</style>\n",
              "<table border=\"1\" class=\"dataframe\">\n",
              "  <thead>\n",
              "    <tr style=\"text-align: right;\">\n",
              "      <th></th>\n",
              "      <th>name</th>\n",
              "      <th>time</th>\n",
              "      <th>tweet</th>\n",
              "    </tr>\n",
              "  </thead>\n",
              "  <tbody>\n",
              "    <tr>\n",
              "      <th>0</th>\n",
              "      <td>B. Leos</td>\n",
              "      <td>2021-05-21 01:32:44</td>\n",
              "      <td>El dichoso regreso a clases , me parece politi...</td>\n",
              "    </tr>\n",
              "    <tr>\n",
              "      <th>1</th>\n",
              "      <td>Foro_TV</td>\n",
              "      <td>2021-05-21 01:32:42</td>\n",
              "      <td>Las papelerías del Centro Histórico, se prepar...</td>\n",
              "    </tr>\n",
              "    <tr>\n",
              "      <th>2</th>\n",
              "      <td>MAM_RyTv</td>\n",
              "      <td>2021-05-21 01:32:22</td>\n",
              "      <td>Telefórmula - Grupo Fórmula/ José Cárdenas Inf...</td>\n",
              "    </tr>\n",
              "    <tr>\n",
              "      <th>3</th>\n",
              "      <td>Nacho J</td>\n",
              "      <td>2021-05-21 01:32:17</td>\n",
              "      <td>48 horas en este País se Convirtieron en Largo...</td>\n",
              "    </tr>\n",
              "    <tr>\n",
              "      <th>4</th>\n",
              "      <td>Monicucha</td>\n",
              "      <td>2021-05-21 01:32:16</td>\n",
              "      <td>Oye Isaaaaaa @isabellemexico on andas? Para ha...</td>\n",
              "    </tr>\n",
              "  </tbody>\n",
              "</table>\n",
              "</div>"
            ],
            "text/plain": [
              "        name  ...                                              tweet\n",
              "0    B. Leos  ...  El dichoso regreso a clases , me parece politi...\n",
              "1    Foro_TV  ...  Las papelerías del Centro Histórico, se prepar...\n",
              "2   MAM_RyTv  ...  Telefórmula - Grupo Fórmula/ José Cárdenas Inf...\n",
              "3    Nacho J  ...  48 horas en este País se Convirtieron en Largo...\n",
              "4  Monicucha  ...  Oye Isaaaaaa @isabellemexico on andas? Para ha...\n",
              "\n",
              "[5 rows x 3 columns]"
            ]
          },
          "metadata": {
            "tags": []
          },
          "execution_count": 10
        }
      ]
    },
    {
      "cell_type": "code",
      "metadata": {
        "colab": {
          "base_uri": "https://localhost:8080/",
          "height": 204
        },
        "id": "ezixZHt_j5_I",
        "outputId": "255232f1-6383-42c0-d8f7-00ad5e50a07e"
      },
      "source": [
        "df.tail()"
      ],
      "execution_count": null,
      "outputs": [
        {
          "output_type": "execute_result",
          "data": {
            "text/html": [
              "<div>\n",
              "<style scoped>\n",
              "    .dataframe tbody tr th:only-of-type {\n",
              "        vertical-align: middle;\n",
              "    }\n",
              "\n",
              "    .dataframe tbody tr th {\n",
              "        vertical-align: top;\n",
              "    }\n",
              "\n",
              "    .dataframe thead th {\n",
              "        text-align: right;\n",
              "    }\n",
              "</style>\n",
              "<table border=\"1\" class=\"dataframe\">\n",
              "  <thead>\n",
              "    <tr style=\"text-align: right;\">\n",
              "      <th></th>\n",
              "      <th>name</th>\n",
              "      <th>time</th>\n",
              "      <th>tweet</th>\n",
              "    </tr>\n",
              "  </thead>\n",
              "  <tbody>\n",
              "    <tr>\n",
              "      <th>270</th>\n",
              "      <td>Meganoticias IXT</td>\n",
              "      <td>2021-05-20 23:36:29</td>\n",
              "      <td>#Zihuatanejo | Se están diagnosticando las esc...</td>\n",
              "    </tr>\n",
              "    <tr>\n",
              "      <th>271</th>\n",
              "      <td>Chris Castillo</td>\n",
              "      <td>2021-05-20 23:36:12</td>\n",
              "      <td>En caso de que se dé el regreso a clases el 7 ...</td>\n",
              "    </tr>\n",
              "    <tr>\n",
              "      <th>272</th>\n",
              "      <td>Diario Rompecabeza</td>\n",
              "      <td>2021-05-20 23:36:09</td>\n",
              "      <td>Estudiantes advierten que Yucatán no estaría l...</td>\n",
              "    </tr>\n",
              "    <tr>\n",
              "      <th>273</th>\n",
              "      <td>EL OCCIDENTAL</td>\n",
              "      <td>2021-05-20 23:33:54</td>\n",
              "      <td>#Importante | Conoce los detalles del #Regreso...</td>\n",
              "    </tr>\n",
              "    <tr>\n",
              "      <th>274</th>\n",
              "      <td>ema!🦩</td>\n",
              "      <td>2021-05-20 23:32:46</td>\n",
              "      <td>como que regreso a clases si yo ando      trab...</td>\n",
              "    </tr>\n",
              "  </tbody>\n",
              "</table>\n",
              "</div>"
            ],
            "text/plain": [
              "                   name  ...                                              tweet\n",
              "270    Meganoticias IXT  ...  #Zihuatanejo | Se están diagnosticando las esc...\n",
              "271      Chris Castillo  ...  En caso de que se dé el regreso a clases el 7 ...\n",
              "272  Diario Rompecabeza  ...  Estudiantes advierten que Yucatán no estaría l...\n",
              "273       EL OCCIDENTAL  ...  #Importante | Conoce los detalles del #Regreso...\n",
              "274               ema!🦩  ...  como que regreso a clases si yo ando      trab...\n",
              "\n",
              "[5 rows x 3 columns]"
            ]
          },
          "metadata": {
            "tags": []
          },
          "execution_count": 12
        }
      ]
    },
    {
      "cell_type": "code",
      "metadata": {
        "id": "Mo9I5asGkALY"
      },
      "source": [
        "data = df['tweet'].tolist()"
      ],
      "execution_count": null,
      "outputs": []
    },
    {
      "cell_type": "code",
      "metadata": {
        "id": "0x0wb5R1kyzP"
      },
      "source": [
        "pattern = r'''(?x)                  # Flag para iniciar el modo verbose\n",
        "              (?:[A-Z]\\.)+          # Hace match con abreviaciones como U.S.A.\n",
        "              | \\w+(?:-\\w+)*        # Hace match con palabras que pueden tener un guión interno\n",
        "              | \\$?\\d+(?:\\.\\d+)?%?  # Hace match con dinero o porcentajes como $15.5 o 100%\n",
        "              | \\.\\.\\.              # Hace match con puntos suspensivos\n",
        "              | [][.,;\"'?():-_`]    # Hace match con signos de puntuación\n",
        "'''"
      ],
      "execution_count": null,
      "outputs": []
    },
    {
      "cell_type": "code",
      "metadata": {
        "colab": {
          "base_uri": "https://localhost:8080/"
        },
        "id": "Kz_6Mo9jk12j",
        "outputId": "89afd4bb-7402-40f2-c13f-3584eb66bafd"
      },
      "source": [
        "import nltk\n",
        "nltk.download('punkt')\n",
        "from nltk import word_tokenize"
      ],
      "execution_count": null,
      "outputs": [
        {
          "output_type": "stream",
          "text": [
            "[nltk_data] Downloading package punkt to /root/nltk_data...\n",
            "[nltk_data]   Package punkt is already up-to-date!\n"
          ],
          "name": "stdout"
        }
      ]
    },
    {
      "cell_type": "code",
      "metadata": {
        "id": "Kvit-kSllGvi"
      },
      "source": [
        "texto = []\n",
        "\n",
        "for x in range(0,len(data)):\n",
        "  token_1 = data[x].lower()\n",
        "  token_2 = nltk.regexp_tokenize(token_1, pattern)\n",
        "  texto.append(token_2)"
      ],
      "execution_count": null,
      "outputs": []
    },
    {
      "cell_type": "code",
      "metadata": {
        "id": "T5_RWMF8lilg"
      },
      "source": [
        "flatten = [w for l in texto for w in l]"
      ],
      "execution_count": null,
      "outputs": []
    },
    {
      "cell_type": "code",
      "metadata": {
        "id": "EsH0M9mkl21H"
      },
      "source": [
        "import string\n",
        "puntuacion = list(string.punctuation)"
      ],
      "execution_count": null,
      "outputs": []
    },
    {
      "cell_type": "code",
      "metadata": {
        "colab": {
          "base_uri": "https://localhost:8080/"
        },
        "id": "V6LQZ3V5l_4g",
        "outputId": "86712c2e-9b42-4774-f6e0-20e3c04e64d6"
      },
      "source": [
        "nltk.download('stopwords')\n",
        "newStopWords = list(nltk.corpus.stopwords.words('spanish'))"
      ],
      "execution_count": null,
      "outputs": [
        {
          "output_type": "stream",
          "text": [
            "[nltk_data] Downloading package stopwords to /root/nltk_data...\n",
            "[nltk_data]   Package stopwords is already up-to-date!\n"
          ],
          "name": "stdout"
        }
      ]
    },
    {
      "cell_type": "code",
      "metadata": {
        "id": "viQRVz0smL7J"
      },
      "source": [
        "df_2 = [w for w in flatten if w not in newStopWords]"
      ],
      "execution_count": null,
      "outputs": []
    },
    {
      "cell_type": "code",
      "metadata": {
        "id": "apPEntpmmaAY"
      },
      "source": [
        "df_3 = [w for w in df_2 if w not in puntuacion]"
      ],
      "execution_count": null,
      "outputs": []
    },
    {
      "cell_type": "code",
      "metadata": {
        "id": "0QI2sPq8mh6Q"
      },
      "source": [
        "fw = nltk.FreqDist(df_3)"
      ],
      "execution_count": null,
      "outputs": []
    },
    {
      "cell_type": "code",
      "metadata": {
        "colab": {
          "base_uri": "https://localhost:8080/"
        },
        "id": "uz9mt6ZUmpOg",
        "outputId": "7f3f85fb-5127-4775-a2fb-0a9e245daaae"
      },
      "source": [
        "fw.most_common(25)"
      ],
      "execution_count": null,
      "outputs": [
        {
          "output_type": "execute_result",
          "data": {
            "text/plain": [
              "[('t', 243),\n",
              " ('https', 241),\n",
              " ('co', 241),\n",
              " ('clases', 214),\n",
              " ('regreso', 211),\n",
              " ('presenciales', 63),\n",
              " ('junio', 25),\n",
              " ('escuelas', 22),\n",
              " ('si', 20),\n",
              " ('vacunación', 18),\n",
              " ('estudiantes', 15),\n",
              " ('claudiashein', 14),\n",
              " ('cdmx', 13),\n",
              " ('...', 12),\n",
              " ('medidas', 12),\n",
              " ('robot', 11),\n",
              " ('7', 11),\n",
              " ('gobierno', 10),\n",
              " ('federación', 10),\n",
              " ('lopezobrador_', 10),\n",
              " ('sep_mx', 10),\n",
              " ('nacional', 10),\n",
              " ('covid-19', 9),\n",
              " ('covid', 9),\n",
              " ('benebot', 8)]"
            ]
          },
          "metadata": {
            "tags": []
          },
          "execution_count": 27
        }
      ]
    },
    {
      "cell_type": "code",
      "metadata": {
        "id": "aj5aDbeqmrQq"
      },
      "source": [
        "from wordcloud import WordCloud\n",
        "import matplotlib.pyplot as plt"
      ],
      "execution_count": null,
      "outputs": []
    },
    {
      "cell_type": "code",
      "metadata": {
        "colab": {
          "base_uri": "https://localhost:8080/",
          "height": 198
        },
        "id": "T3VtE-VNnCKl",
        "outputId": "6fcd05e2-6e82-4540-f5e6-1629c286090f"
      },
      "source": [
        "wordcloud = WordCloud(background_color='white', collocations=False, max_words=30).fit_words(fw)\n",
        "plt.imshow(wordcloud, interpolation='bilinear')\n",
        "plt.axis('off')\n",
        "plt.show()"
      ],
      "execution_count": null,
      "outputs": [
        {
          "output_type": "display_data",
          "data": {
            "image/png": "[encoded data removed]",
            "text/plain": [
              "<Figure size 432x288 with 1 Axes>"
            ]
          },
          "metadata": {
            "tags": [],
            "needs_background": "light"
          }
        }
      ]
    },
    {
      "cell_type": "code",
      "metadata": {
        "id": "dw0T11-Znn6K"
      },
      "source": [
        ""
      ],
      "execution_count": null,
      "outputs": []
    }
  ]
}